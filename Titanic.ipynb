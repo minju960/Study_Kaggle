{
  "nbformat": 4,
  "nbformat_minor": 0,
  "metadata": {
    "colab": {
      "name": "Titanic.ipynb",
      "provenance": [],
      "mount_file_id": "135ux0XYExEWu8QtbudknQ6EIyWpqjX36",
      "authorship_tag": "ABX9TyPC6AZdTZIs/nygpdz4Q2GO",
      "include_colab_link": true
    },
    "kernelspec": {
      "name": "python3",
      "display_name": "Python 3"
    },
    "language_info": {
      "name": "python"
    }
  },
  "cells": [
    {
      "cell_type": "markdown",
      "metadata": {
        "id": "view-in-github",
        "colab_type": "text"
      },
      "source": [
        "<a href=\"https://colab.research.google.com/github/minju960/Study_Kaggle/blob/main/Titanic.ipynb\" target=\"_parent\"><img src=\"https://colab.research.google.com/assets/colab-badge.svg\" alt=\"Open In Colab\"/></a>"
      ]
    },
    {
      "cell_type": "markdown",
      "metadata": {
        "id": "r0QWqH3nQLDa"
      },
      "source": [
        "# Machine Learning to Predict Titanic Survivors\n",
        "\n",
        " In this Kernel, I will step by step process messy data and build a ML model to predict the survival of each passenger aboard the Titanic.\n",
        " This guide is meant for people starting with data visualization, analysis and Machine Learning.\n",
        "\n",
        "\n",
        "---\n",
        "\n",
        "그리고 생각하는 것 만큼 어렵지 않다고 한다.\n"
      ]
    },
    {
      "cell_type": "markdown",
      "metadata": {
        "id": "L2hNmclJSZtK"
      },
      "source": [
        "# Classification vs. Regression\n",
        "\n",
        "As you know, predicting Titanic survivors is a supervised classification Machine Learning problem, where you classify a passenger as either survived, or not survived.\n",
        "\n",
        "\n",
        "---\n",
        "아시다시피, 타이타닉의 생존자를 예측하는 것은 감독되는 분류 기계 학습 문제로, 승객을 생존자로 분류하거나 생존하지 못한 것으로 분류합니다."
      ]
    },
    {
      "cell_type": "code",
      "metadata": {
        "id": "_7oaYcb_Ac9M",
        "colab": {
          "base_uri": "https://localhost:8080/"
        },
        "outputId": "d99592e6-f1cb-40e4-9fbd-ad318167f420"
      },
      "source": [
        "# Google Drive 연동\n",
        "from google.colab import drive\n",
        "drive.mount('/content/drive')"
      ],
      "execution_count": 2,
      "outputs": [
        {
          "output_type": "stream",
          "text": [
            "Drive already mounted at /content/drive; to attempt to forcibly remount, call drive.mount(\"/content/drive\", force_remount=True).\n"
          ],
          "name": "stdout"
        }
      ]
    },
    {
      "cell_type": "markdown",
      "metadata": {
        "id": "1W7QDeJ0-5ib"
      },
      "source": [
        "# 1. Importing Libraries and Packages\n",
        "\n",
        "We will use these packages to help us manipulate the data and visualize the features/labels as well as measure how well our model performed. Numpy and Pandas are helpful for manipulating the dataframe and its columns and cells. We will use matplotlib along with Seaborn to visualize our data.\n",
        "\n",
        "\n",
        "---\n",
        "패키지 -> 데이터 조작, 기능과 라벨을 시각화, 모델이 얼마나 잘 수행되었는지 측정\n",
        "\n",
        "Numpy, Pandas -> 데이터 프레임과 이것의 열과 행 조작 가능\n",
        "\n",
        "Seaborn, Matplotlib -> 데이터 시각화\n"
      ]
    },
    {
      "cell_type": "markdown",
      "metadata": {
        "id": "aIeNGVzKExiU"
      },
      "source": [
        "## Numpy, Pandas 차이\n",
        "\n",
        "머신러닝과 딥러닝 할 때 구분해서 사용하면 좋다.\n",
        "\n",
        "\n",
        "> Numpy \n",
        "\n",
        "(핵심기능 : 다차원 배열인 ndarray 클래스, 배열의 모든 원소는 동일한 데이터 타입이여야 한다)\n",
        "\n",
        "\n",
        "\n",
        "*   다차원 배열 객체\n",
        "*   유니버설 함수\n",
        "*   배열을 사용한 데이터 처리\n",
        "*   배열의 파일 입력, 출력\n",
        "*   선형대수\n",
        "*   난수 생성\n",
        "*   브로드캐스팅\n",
        "*   객체 생성이기 때문에 객체 주소지만 참조\n",
        "\n",
        "> Pandas\n",
        "\n",
        "*   테이블을 수정하고 조작하는 다양한 기능 제공\n",
        "*   SQL처럼 테이블에 쿼리나 조인 수행 가능\n",
        "*   각 열의 타입이 달라도 된다\n",
        "*   SQL, 엑셀파일, CSV 파일과 데이터베이스의 데이터를 읽어 들인다\n",
        "\n",
        "> 정리\n",
        "\n",
        "*   Numpy : 같은 데이터타입의 다차원 배열, 난수생성 가능, 연산 가능\n",
        "*   Pandas : 다른 데이터타입을 담을 수 있는 테이블, SQL 쿼리로 데이터 편집 가능\n",
        "\n",
        "\n",
        "\n",
        "\n",
        "\n",
        "\n",
        "\n"
      ]
    },
    {
      "cell_type": "code",
      "metadata": {
        "colab": {
          "base_uri": "https://localhost:8080/"
        },
        "id": "xICB5jCx-zTz",
        "outputId": "df264e2a-effb-4381-c82f-e32d63970244"
      },
      "source": [
        "import numpy as np\n",
        "import pandas as pd\n",
        "\n",
        "# Matplotlib을 기반으로 다양한 색상 테마와 통계용 차트 등의 기능을 추가한 시각화 패키지\n",
        "import seaborn as sns\n",
        "# 다양한 데이터를 많은 방법으로 도식화 할 수 있도록 하는 파이썬 라이브러리\n",
        "from matplotlib import pyplot as plt\n",
        "sns.set_style(\"whitegrid\")\n",
        "\n",
        "# notebook을 실행한 브라우저에서 바로 그림을 볼 수 있게 해주는 코드. 즉 브라우저 내부에 바로 그려지도록 해주는 코드.\n",
        "%matplotlib inline\n",
        "\n",
        "import warnings\n",
        "warnings.filterwarnings(\"ignore\")\n",
        "\n",
        "import os\n",
        "DIR_PATH = \"/content/drive/MyDrive/Colab Notebooks/data/Data_Titanic\"\n",
        "print(os.listdir(DIR_PATH))"
      ],
      "execution_count": 3,
      "outputs": [
        {
          "output_type": "stream",
          "text": [
            "['gender_submission.csv', 'train.csv', 'test.csv']\n"
          ],
          "name": "stdout"
        }
      ]
    },
    {
      "cell_type": "markdown",
      "metadata": {
        "id": "FjUq_0CBEx_3"
      },
      "source": [
        "# 2. Loading and Viewing Data Set\n",
        "\n",
        "With Pandas, we can load both the training and testing set that we wil later use to train and test our model. Before we begin, we should take a look at our data table to see the values that we'll be working with. We can use the head and describe function to look at some sample data and statistics. We can also look at its keys and column names.\n",
        "\n",
        "\n",
        "---\n",
        "시작하기 전에 먼저 데이터 테이블 살펴보고 작업할 값을 확인해야 한다.\n",
        "\n",
        "헤드, 함수 사용 -> 샘플 데이터와 통계 확인 가능. 또 그것의 키와 열 이름을 볼 수 있음.\n"
      ]
    },
    {
      "cell_type": "code",
      "metadata": {
        "id": "ceInaeBJGIJD"
      },
      "source": [
        "training = pd.read_csv('/content/drive/MyDrive/Colab Notebooks/data/Data_Titanic/train.csv')\n",
        "testing = pd.read_csv('/content/drive/MyDrive/Colab Notebooks/data/Data_Titanic/test.csv')"
      ],
      "execution_count": 4,
      "outputs": []
    },
    {
      "cell_type": "code",
      "metadata": {
        "colab": {
          "base_uri": "https://localhost:8080/",
          "height": 492
        },
        "id": "b_XMH8AqGxXa",
        "outputId": "fd22c32e-3977-4abc-d420-2dfca581c05e"
      },
      "source": [
        "training.head()"
      ],
      "execution_count": 5,
      "outputs": [
        {
          "output_type": "execute_result",
          "data": {
            "text/html": [
              "<div>\n",
              "<style scoped>\n",
              "    .dataframe tbody tr th:only-of-type {\n",
              "        vertical-align: middle;\n",
              "    }\n",
              "\n",
              "    .dataframe tbody tr th {\n",
              "        vertical-align: top;\n",
              "    }\n",
              "\n",
              "    .dataframe thead th {\n",
              "        text-align: right;\n",
              "    }\n",
              "</style>\n",
              "<table border=\"1\" class=\"dataframe\">\n",
              "  <thead>\n",
              "    <tr style=\"text-align: right;\">\n",
              "      <th></th>\n",
              "      <th>PassengerId</th>\n",
              "      <th>Survived</th>\n",
              "      <th>Pclass</th>\n",
              "      <th>Name</th>\n",
              "      <th>Sex</th>\n",
              "      <th>Age</th>\n",
              "      <th>SibSp</th>\n",
              "      <th>Parch</th>\n",
              "      <th>Ticket</th>\n",
              "      <th>Fare</th>\n",
              "      <th>Cabin</th>\n",
              "      <th>Embarked</th>\n",
              "    </tr>\n",
              "  </thead>\n",
              "  <tbody>\n",
              "    <tr>\n",
              "      <th>0</th>\n",
              "      <td>1</td>\n",
              "      <td>0</td>\n",
              "      <td>3</td>\n",
              "      <td>Braund, Mr. Owen Harris</td>\n",
              "      <td>male</td>\n",
              "      <td>22.0</td>\n",
              "      <td>1</td>\n",
              "      <td>0</td>\n",
              "      <td>A/5 21171</td>\n",
              "      <td>7.2500</td>\n",
              "      <td>NaN</td>\n",
              "      <td>S</td>\n",
              "    </tr>\n",
              "    <tr>\n",
              "      <th>1</th>\n",
              "      <td>2</td>\n",
              "      <td>1</td>\n",
              "      <td>1</td>\n",
              "      <td>Cumings, Mrs. John Bradley (Florence Briggs Th...</td>\n",
              "      <td>female</td>\n",
              "      <td>38.0</td>\n",
              "      <td>1</td>\n",
              "      <td>0</td>\n",
              "      <td>PC 17599</td>\n",
              "      <td>71.2833</td>\n",
              "      <td>C85</td>\n",
              "      <td>C</td>\n",
              "    </tr>\n",
              "    <tr>\n",
              "      <th>2</th>\n",
              "      <td>3</td>\n",
              "      <td>1</td>\n",
              "      <td>3</td>\n",
              "      <td>Heikkinen, Miss. Laina</td>\n",
              "      <td>female</td>\n",
              "      <td>26.0</td>\n",
              "      <td>0</td>\n",
              "      <td>0</td>\n",
              "      <td>STON/O2. 3101282</td>\n",
              "      <td>7.9250</td>\n",
              "      <td>NaN</td>\n",
              "      <td>S</td>\n",
              "    </tr>\n",
              "    <tr>\n",
              "      <th>3</th>\n",
              "      <td>4</td>\n",
              "      <td>1</td>\n",
              "      <td>1</td>\n",
              "      <td>Futrelle, Mrs. Jacques Heath (Lily May Peel)</td>\n",
              "      <td>female</td>\n",
              "      <td>35.0</td>\n",
              "      <td>1</td>\n",
              "      <td>0</td>\n",
              "      <td>113803</td>\n",
              "      <td>53.1000</td>\n",
              "      <td>C123</td>\n",
              "      <td>S</td>\n",
              "    </tr>\n",
              "    <tr>\n",
              "      <th>4</th>\n",
              "      <td>5</td>\n",
              "      <td>0</td>\n",
              "      <td>3</td>\n",
              "      <td>Allen, Mr. William Henry</td>\n",
              "      <td>male</td>\n",
              "      <td>35.0</td>\n",
              "      <td>0</td>\n",
              "      <td>0</td>\n",
              "      <td>373450</td>\n",
              "      <td>8.0500</td>\n",
              "      <td>NaN</td>\n",
              "      <td>S</td>\n",
              "    </tr>\n",
              "  </tbody>\n",
              "</table>\n",
              "</div>"
            ],
            "text/plain": [
              "   PassengerId  Survived  Pclass  ...     Fare Cabin  Embarked\n",
              "0            1         0       3  ...   7.2500   NaN         S\n",
              "1            2         1       1  ...  71.2833   C85         C\n",
              "2            3         1       3  ...   7.9250   NaN         S\n",
              "3            4         1       1  ...  53.1000  C123         S\n",
              "4            5         0       3  ...   8.0500   NaN         S\n",
              "\n",
              "[5 rows x 12 columns]"
            ]
          },
          "metadata": {
            "tags": []
          },
          "execution_count": 5
        }
      ]
    },
    {
      "cell_type": "code",
      "metadata": {
        "colab": {
          "base_uri": "https://localhost:8080/",
          "height": 442
        },
        "id": "EmDEqW0TG16-",
        "outputId": "c3a7e164-66d7-4c82-a5ac-83bdfa22f5be"
      },
      "source": [
        "testing.head()"
      ],
      "execution_count": 6,
      "outputs": [
        {
          "output_type": "execute_result",
          "data": {
            "text/html": [
              "<div>\n",
              "<style scoped>\n",
              "    .dataframe tbody tr th:only-of-type {\n",
              "        vertical-align: middle;\n",
              "    }\n",
              "\n",
              "    .dataframe tbody tr th {\n",
              "        vertical-align: top;\n",
              "    }\n",
              "\n",
              "    .dataframe thead th {\n",
              "        text-align: right;\n",
              "    }\n",
              "</style>\n",
              "<table border=\"1\" class=\"dataframe\">\n",
              "  <thead>\n",
              "    <tr style=\"text-align: right;\">\n",
              "      <th></th>\n",
              "      <th>PassengerId</th>\n",
              "      <th>Pclass</th>\n",
              "      <th>Name</th>\n",
              "      <th>Sex</th>\n",
              "      <th>Age</th>\n",
              "      <th>SibSp</th>\n",
              "      <th>Parch</th>\n",
              "      <th>Ticket</th>\n",
              "      <th>Fare</th>\n",
              "      <th>Cabin</th>\n",
              "      <th>Embarked</th>\n",
              "    </tr>\n",
              "  </thead>\n",
              "  <tbody>\n",
              "    <tr>\n",
              "      <th>0</th>\n",
              "      <td>892</td>\n",
              "      <td>3</td>\n",
              "      <td>Kelly, Mr. James</td>\n",
              "      <td>male</td>\n",
              "      <td>34.5</td>\n",
              "      <td>0</td>\n",
              "      <td>0</td>\n",
              "      <td>330911</td>\n",
              "      <td>7.8292</td>\n",
              "      <td>NaN</td>\n",
              "      <td>Q</td>\n",
              "    </tr>\n",
              "    <tr>\n",
              "      <th>1</th>\n",
              "      <td>893</td>\n",
              "      <td>3</td>\n",
              "      <td>Wilkes, Mrs. James (Ellen Needs)</td>\n",
              "      <td>female</td>\n",
              "      <td>47.0</td>\n",
              "      <td>1</td>\n",
              "      <td>0</td>\n",
              "      <td>363272</td>\n",
              "      <td>7.0000</td>\n",
              "      <td>NaN</td>\n",
              "      <td>S</td>\n",
              "    </tr>\n",
              "    <tr>\n",
              "      <th>2</th>\n",
              "      <td>894</td>\n",
              "      <td>2</td>\n",
              "      <td>Myles, Mr. Thomas Francis</td>\n",
              "      <td>male</td>\n",
              "      <td>62.0</td>\n",
              "      <td>0</td>\n",
              "      <td>0</td>\n",
              "      <td>240276</td>\n",
              "      <td>9.6875</td>\n",
              "      <td>NaN</td>\n",
              "      <td>Q</td>\n",
              "    </tr>\n",
              "    <tr>\n",
              "      <th>3</th>\n",
              "      <td>895</td>\n",
              "      <td>3</td>\n",
              "      <td>Wirz, Mr. Albert</td>\n",
              "      <td>male</td>\n",
              "      <td>27.0</td>\n",
              "      <td>0</td>\n",
              "      <td>0</td>\n",
              "      <td>315154</td>\n",
              "      <td>8.6625</td>\n",
              "      <td>NaN</td>\n",
              "      <td>S</td>\n",
              "    </tr>\n",
              "    <tr>\n",
              "      <th>4</th>\n",
              "      <td>896</td>\n",
              "      <td>3</td>\n",
              "      <td>Hirvonen, Mrs. Alexander (Helga E Lindqvist)</td>\n",
              "      <td>female</td>\n",
              "      <td>22.0</td>\n",
              "      <td>1</td>\n",
              "      <td>1</td>\n",
              "      <td>3101298</td>\n",
              "      <td>12.2875</td>\n",
              "      <td>NaN</td>\n",
              "      <td>S</td>\n",
              "    </tr>\n",
              "  </tbody>\n",
              "</table>\n",
              "</div>"
            ],
            "text/plain": [
              "   PassengerId  Pclass  ... Cabin Embarked\n",
              "0          892       3  ...   NaN        Q\n",
              "1          893       3  ...   NaN        S\n",
              "2          894       2  ...   NaN        Q\n",
              "3          895       3  ...   NaN        S\n",
              "4          896       3  ...   NaN        S\n",
              "\n",
              "[5 rows x 11 columns]"
            ]
          },
          "metadata": {
            "tags": []
          },
          "execution_count": 6
        }
      ]
    },
    {
      "cell_type": "markdown",
      "metadata": {
        "id": "jqaqJac6HPaa"
      },
      "source": [
        "This data looks very messy! We're going to have to preprocess it before it's ready to be used in Machine Learning models. \n",
        "\n",
        "\n",
        "---\n",
        "데이터가 복잡해 보인다. 머신러닝 모델에 사용하기 전에 전처리를 해야한다.\n"
      ]
    },
    {
      "cell_type": "code",
      "metadata": {
        "colab": {
          "base_uri": "https://localhost:8080/"
        },
        "id": "RQWYRlp0Hc0J",
        "outputId": "3fa257af-c081-4ddd-914b-ed86107108b5"
      },
      "source": [
        "print(training.keys())\n",
        "print(testing.keys())"
      ],
      "execution_count": 7,
      "outputs": [
        {
          "output_type": "stream",
          "text": [
            "Index(['PassengerId', 'Survived', 'Pclass', 'Name', 'Sex', 'Age', 'SibSp',\n",
            "       'Parch', 'Ticket', 'Fare', 'Cabin', 'Embarked'],\n",
            "      dtype='object')\n",
            "Index(['PassengerId', 'Pclass', 'Name', 'Sex', 'Age', 'SibSp', 'Parch',\n",
            "       'Ticket', 'Fare', 'Cabin', 'Embarked'],\n",
            "      dtype='object')\n"
          ],
          "name": "stdout"
        }
      ]
    },
    {
      "cell_type": "code",
      "metadata": {
        "id": "TfFqRHeaIJYe",
        "colab": {
          "base_uri": "https://localhost:8080/"
        },
        "outputId": "5793ba86-88e0-4eca-f3d8-92869c696388"
      },
      "source": [
        "types_train = training.dtypes\n",
        "num_values = types_train[(types_train == float)]\n",
        "\n",
        "print(\"These are the numerical features\")\n",
        "print(num_values)"
      ],
      "execution_count": 9,
      "outputs": [
        {
          "output_type": "stream",
          "text": [
            "These are the numerical features\n",
            "Age     float64\n",
            "Fare    float64\n",
            "dtype: object\n"
          ],
          "name": "stdout"
        }
      ]
    },
    {
      "cell_type": "code",
      "metadata": {
        "id": "zoHAzE4_IYWg",
        "colab": {
          "base_uri": "https://localhost:8080/",
          "height": 315
        },
        "outputId": "3075ba45-2fe9-4ceb-a474-2a0f97cc8809"
      },
      "source": [
        "training.describe()"
      ],
      "execution_count": 10,
      "outputs": [
        {
          "output_type": "execute_result",
          "data": {
            "text/html": [
              "<div>\n",
              "<style scoped>\n",
              "    .dataframe tbody tr th:only-of-type {\n",
              "        vertical-align: middle;\n",
              "    }\n",
              "\n",
              "    .dataframe tbody tr th {\n",
              "        vertical-align: top;\n",
              "    }\n",
              "\n",
              "    .dataframe thead th {\n",
              "        text-align: right;\n",
              "    }\n",
              "</style>\n",
              "<table border=\"1\" class=\"dataframe\">\n",
              "  <thead>\n",
              "    <tr style=\"text-align: right;\">\n",
              "      <th></th>\n",
              "      <th>PassengerId</th>\n",
              "      <th>Survived</th>\n",
              "      <th>Pclass</th>\n",
              "      <th>Age</th>\n",
              "      <th>SibSp</th>\n",
              "      <th>Parch</th>\n",
              "      <th>Fare</th>\n",
              "    </tr>\n",
              "  </thead>\n",
              "  <tbody>\n",
              "    <tr>\n",
              "      <th>count</th>\n",
              "      <td>891.000000</td>\n",
              "      <td>891.000000</td>\n",
              "      <td>891.000000</td>\n",
              "      <td>714.000000</td>\n",
              "      <td>891.000000</td>\n",
              "      <td>891.000000</td>\n",
              "      <td>891.000000</td>\n",
              "    </tr>\n",
              "    <tr>\n",
              "      <th>mean</th>\n",
              "      <td>446.000000</td>\n",
              "      <td>0.383838</td>\n",
              "      <td>2.308642</td>\n",
              "      <td>29.699118</td>\n",
              "      <td>0.523008</td>\n",
              "      <td>0.381594</td>\n",
              "      <td>32.204208</td>\n",
              "    </tr>\n",
              "    <tr>\n",
              "      <th>std</th>\n",
              "      <td>257.353842</td>\n",
              "      <td>0.486592</td>\n",
              "      <td>0.836071</td>\n",
              "      <td>14.526497</td>\n",
              "      <td>1.102743</td>\n",
              "      <td>0.806057</td>\n",
              "      <td>49.693429</td>\n",
              "    </tr>\n",
              "    <tr>\n",
              "      <th>min</th>\n",
              "      <td>1.000000</td>\n",
              "      <td>0.000000</td>\n",
              "      <td>1.000000</td>\n",
              "      <td>0.420000</td>\n",
              "      <td>0.000000</td>\n",
              "      <td>0.000000</td>\n",
              "      <td>0.000000</td>\n",
              "    </tr>\n",
              "    <tr>\n",
              "      <th>25%</th>\n",
              "      <td>223.500000</td>\n",
              "      <td>0.000000</td>\n",
              "      <td>2.000000</td>\n",
              "      <td>20.125000</td>\n",
              "      <td>0.000000</td>\n",
              "      <td>0.000000</td>\n",
              "      <td>7.910400</td>\n",
              "    </tr>\n",
              "    <tr>\n",
              "      <th>50%</th>\n",
              "      <td>446.000000</td>\n",
              "      <td>0.000000</td>\n",
              "      <td>3.000000</td>\n",
              "      <td>28.000000</td>\n",
              "      <td>0.000000</td>\n",
              "      <td>0.000000</td>\n",
              "      <td>14.454200</td>\n",
              "    </tr>\n",
              "    <tr>\n",
              "      <th>75%</th>\n",
              "      <td>668.500000</td>\n",
              "      <td>1.000000</td>\n",
              "      <td>3.000000</td>\n",
              "      <td>38.000000</td>\n",
              "      <td>1.000000</td>\n",
              "      <td>0.000000</td>\n",
              "      <td>31.000000</td>\n",
              "    </tr>\n",
              "    <tr>\n",
              "      <th>max</th>\n",
              "      <td>891.000000</td>\n",
              "      <td>1.000000</td>\n",
              "      <td>3.000000</td>\n",
              "      <td>80.000000</td>\n",
              "      <td>8.000000</td>\n",
              "      <td>6.000000</td>\n",
              "      <td>512.329200</td>\n",
              "    </tr>\n",
              "  </tbody>\n",
              "</table>\n",
              "</div>"
            ],
            "text/plain": [
              "       PassengerId    Survived      Pclass  ...       SibSp       Parch        Fare\n",
              "count   891.000000  891.000000  891.000000  ...  891.000000  891.000000  891.000000\n",
              "mean    446.000000    0.383838    2.308642  ...    0.523008    0.381594   32.204208\n",
              "std     257.353842    0.486592    0.836071  ...    1.102743    0.806057   49.693429\n",
              "min       1.000000    0.000000    1.000000  ...    0.000000    0.000000    0.000000\n",
              "25%     223.500000    0.000000    2.000000  ...    0.000000    0.000000    7.910400\n",
              "50%     446.000000    0.000000    3.000000  ...    0.000000    0.000000   14.454200\n",
              "75%     668.500000    1.000000    3.000000  ...    1.000000    0.000000   31.000000\n",
              "max     891.000000    1.000000    3.000000  ...    8.000000    6.000000  512.329200\n",
              "\n",
              "[8 rows x 7 columns]"
            ]
          },
          "metadata": {
            "tags": []
          },
          "execution_count": 10
        }
      ]
    },
    {
      "cell_type": "markdown",
      "metadata": {
        "id": "_PjIQlDcmaD7"
      },
      "source": [
        "Note: Only Age and Fare are the actual numerical values above and that the other features are just represented with numbers.\n",
        "\n",
        "---\n",
        "Age, Fare 만 실제 값이고, 나머지는 그냥 숫자로 표현된 것이다?\n",
        "\n"
      ]
    },
    {
      "cell_type": "markdown",
      "metadata": {
        "id": "WKD9nMkMmvfX"
      },
      "source": [
        "# 3. Dealing with NaN Values (Imputation)\n",
        "There are NaN values in our data set in the age column. Furthermore, the Cabin column has a lot of missing values as well. These NaN values will get in the way of training our model. We need to fill in the NaN values with replacement values in order for the model to have a complete prediction for every row in the data set. This process is known as imputation and we will show how to replace the missing data.\n",
        "\n",
        "\n",
        "---\n",
        "\n",
        "\n",
        "age 열에 NaN 값들이 있다.\n",
        "게다가 Cabin 열에는 많은 missing values 가 있다.\n",
        "모델이 데이터 세트의 모든 행에 대해 완전한 예측을 갖도록하려면 NaN 값을 대체 값으로 채워야합니다.\n",
        "이 프로세스를 imputation 라고 하며, 우리는 누락 된 데이터를 대체하는 방법을 보여 줄 것이다."
      ]
    },
    {
      "cell_type": "code",
      "metadata": {
        "colab": {
          "base_uri": "https://localhost:8080/"
        },
        "id": "dlJ1bVmqnpsO",
        "outputId": "1d4ad91c-258a-4cde-c246-0fc01175a91e"
      },
      "source": [
        "def null_table(training, testing):\n",
        "    print(\"Training Data Frame\")\n",
        "    print(pd.isnull(training).sum())\n",
        "    print(\" \")\n",
        "    print(\"Testing Data Frame\")\n",
        "    print(pd.isnull(testing).sum())\n",
        "\n",
        "null_table(training, testing)"
      ],
      "execution_count": 11,
      "outputs": [
        {
          "output_type": "stream",
          "text": [
            "Training Data Frame\n",
            "PassengerId      0\n",
            "Survived         0\n",
            "Pclass           0\n",
            "Name             0\n",
            "Sex              0\n",
            "Age            177\n",
            "SibSp            0\n",
            "Parch            0\n",
            "Ticket           0\n",
            "Fare             0\n",
            "Cabin          687\n",
            "Embarked         2\n",
            "dtype: int64\n",
            " \n",
            "Testing Data Frame\n",
            "PassengerId      0\n",
            "Pclass           0\n",
            "Name             0\n",
            "Sex              0\n",
            "Age             86\n",
            "SibSp            0\n",
            "Parch            0\n",
            "Ticket           0\n",
            "Fare             1\n",
            "Cabin          327\n",
            "Embarked         0\n",
            "dtype: int64\n"
          ],
          "name": "stdout"
        }
      ]
    },
    {
      "cell_type": "markdown",
      "metadata": {
        "id": "UzWePkjhocgY"
      },
      "source": [
        "Cabin has a lot of missing values. Also, it seems as though the Ticket feature is too noisy to be useful. We can probably drop both features without it impacting the performance of our model."
      ]
    },
    {
      "cell_type": "code",
      "metadata": {
        "colab": {
          "base_uri": "https://localhost:8080/"
        },
        "id": "fL-RnAQRotAg",
        "outputId": "148a9fc4-db3d-4874-ec8d-cbce3a411504"
      },
      "source": [
        "training.drop(labels = [\"Cabin\", \"Ticket\"], axis = 1, inplace = True)\n",
        "testing.drop(labels = [\"Cabin\", \"Ticket\"], axis = 1, inplace = True)\n",
        "\n",
        "null_table(training, testing)"
      ],
      "execution_count": 12,
      "outputs": [
        {
          "output_type": "stream",
          "text": [
            "Training Data Frame\n",
            "PassengerId      0\n",
            "Survived         0\n",
            "Pclass           0\n",
            "Name             0\n",
            "Sex              0\n",
            "Age            177\n",
            "SibSp            0\n",
            "Parch            0\n",
            "Fare             0\n",
            "Embarked         2\n",
            "dtype: int64\n",
            " \n",
            "Testing Data Frame\n",
            "PassengerId     0\n",
            "Pclass          0\n",
            "Name            0\n",
            "Sex             0\n",
            "Age            86\n",
            "SibSp           0\n",
            "Parch           0\n",
            "Fare            1\n",
            "Embarked        0\n",
            "dtype: int64\n"
          ],
          "name": "stdout"
        }
      ]
    },
    {
      "cell_type": "markdown",
      "metadata": {
        "id": "4GU1NkBypKc-"
      },
      "source": [
        "We take a look at the distribution of the Age column to see if it's skewed or symmetrical. This will help us determine what value to replace the NaN values.\n",
        "\n",
        "\n",
        "---\n",
        "\n",
        "Age 열의 분포를 살펴보고 치우친지 대칭인지 확인한다. NaN 값을 대체할 값을 결정하는 데 도움이 된다.\n"
      ]
    },
    {
      "cell_type": "code",
      "metadata": {
        "colab": {
          "base_uri": "https://localhost:8080/",
          "height": 297
        },
        "id": "hpOgyw0YppWO",
        "outputId": "04072cbd-bc4b-4000-b60c-928ee44ebd75"
      },
      "source": [
        "copy = training.copy()\n",
        "copy.dropna(inplace = True)\n",
        "sns.distplot(copy[\"Age\"])"
      ],
      "execution_count": 13,
      "outputs": [
        {
          "output_type": "execute_result",
          "data": {
            "text/plain": [
              "<matplotlib.axes._subplots.AxesSubplot at 0x7f5da1a30d50>"
            ]
          },
          "metadata": {
            "tags": []
          },
          "execution_count": 13
        },
        {
          "output_type": "display_data",
          "data": {
            "image/png": "[encoded data removed]",
            "text/plain": [
              "<Figure size 432x288 with 1 Axes>"
            ]
          },
          "metadata": {
            "tags": [],
            "needs_background": "light"
          }
        }
      ]
    },
    {
      "cell_type": "markdown",
      "metadata": {
        "id": "jLuQT1qop0ht"
      },
      "source": [
        "Looks like the distribution of ages is slightly skewed right. Because of this, we can fill in the null values with the median for the most accuracy.\n",
        "\n",
        "---\n",
        "Age 분포가 약간 왜곡된 것 같다. 이 때문에 가장 정확도 높이기 위해 중앙값으로 null 값을 채울 수 있다.\n"
      ]
    },
    {
      "cell_type": "markdown",
      "metadata": {
        "id": "IFFLKqqlqOm-"
      },
      "source": [
        "Note. We do not want to fill with the mean because the skewed distribution means that very large values on one end will greatly impact the mean, as opposed to the median, which will only be slightly impacted.\n",
        "\n",
        "---\n",
        "평균으로 채우고 싶지 않다. 왜냐하면 치우친 분포는 한쪽 끝의 매우 큰 값이 평균에 크게 영향을 끼치며, 약간만 영향을 받는 중앙값에 큰 영향을 미치므로.\n"
      ]
    },
    {
      "cell_type": "code",
      "metadata": {
        "colab": {
          "base_uri": "https://localhost:8080/"
        },
        "id": "OrB1oCPKqloh",
        "outputId": "c43ed3ae-0296-4432-a383-7e386e72d3a3"
      },
      "source": [
        "# the median will be an acceptable value to place in the NaN cells\n",
        "# 중앙값은 NaN 셀에 배치할 수 있는 값이다\n",
        "\n",
        "training[\"Age\"].fillna(training[\"Age\"].median(), inplace = True)\n",
        "testing[\"Age\"].fillna(training[\"Age\"].median(), inplace = True)\n",
        "training[\"Embarked\"].fillna(\"S\", inplace = True)\n",
        "testing[\"Fare\"].fillna(testing[\"Fare\"].median(), inplace = True)\n",
        "\n",
        "null_table(training, testing)"
      ],
      "execution_count": 14,
      "outputs": [
        {
          "output_type": "stream",
          "text": [
            "Training Data Frame\n",
            "PassengerId    0\n",
            "Survived       0\n",
            "Pclass         0\n",
            "Name           0\n",
            "Sex            0\n",
            "Age            0\n",
            "SibSp          0\n",
            "Parch          0\n",
            "Fare           0\n",
            "Embarked       0\n",
            "dtype: int64\n",
            " \n",
            "Testing Data Frame\n",
            "PassengerId    0\n",
            "Pclass         0\n",
            "Name           0\n",
            "Sex            0\n",
            "Age            0\n",
            "SibSp          0\n",
            "Parch          0\n",
            "Fare           0\n",
            "Embarked       0\n",
            "dtype: int64\n"
          ],
          "name": "stdout"
        }
      ]
    },
    {
      "cell_type": "markdown",
      "metadata": {
        "id": "0aCkIe0xrnx0"
      },
      "source": [
        "No more missing values. Now let's take a look at our imputed data."
      ]
    },
    {
      "cell_type": "code",
      "metadata": {
        "colab": {
          "base_uri": "https://localhost:8080/",
          "height": 492
        },
        "id": "Ge1jSf_vruqJ",
        "outputId": "438843c4-e220-4f73-adb7-1eb7488dbf51"
      },
      "source": [
        "training.head()"
      ],
      "execution_count": 15,
      "outputs": [
        {
          "output_type": "execute_result",
          "data": {
            "text/html": [
              "<div>\n",
              "<style scoped>\n",
              "    .dataframe tbody tr th:only-of-type {\n",
              "        vertical-align: middle;\n",
              "    }\n",
              "\n",
              "    .dataframe tbody tr th {\n",
              "        vertical-align: top;\n",
              "    }\n",
              "\n",
              "    .dataframe thead th {\n",
              "        text-align: right;\n",
              "    }\n",
              "</style>\n",
              "<table border=\"1\" class=\"dataframe\">\n",
              "  <thead>\n",
              "    <tr style=\"text-align: right;\">\n",
              "      <th></th>\n",
              "      <th>PassengerId</th>\n",
              "      <th>Survived</th>\n",
              "      <th>Pclass</th>\n",
              "      <th>Name</th>\n",
              "      <th>Sex</th>\n",
              "      <th>Age</th>\n",
              "      <th>SibSp</th>\n",
              "      <th>Parch</th>\n",
              "      <th>Fare</th>\n",
              "      <th>Embarked</th>\n",
              "    </tr>\n",
              "  </thead>\n",
              "  <tbody>\n",
              "    <tr>\n",
              "      <th>0</th>\n",
              "      <td>1</td>\n",
              "      <td>0</td>\n",
              "      <td>3</td>\n",
              "      <td>Braund, Mr. Owen Harris</td>\n",
              "      <td>male</td>\n",
              "      <td>22.0</td>\n",
              "      <td>1</td>\n",
              "      <td>0</td>\n",
              "      <td>7.2500</td>\n",
              "      <td>S</td>\n",
              "    </tr>\n",
              "    <tr>\n",
              "      <th>1</th>\n",
              "      <td>2</td>\n",
              "      <td>1</td>\n",
              "      <td>1</td>\n",
              "      <td>Cumings, Mrs. John Bradley (Florence Briggs Th...</td>\n",
              "      <td>female</td>\n",
              "      <td>38.0</td>\n",
              "      <td>1</td>\n",
              "      <td>0</td>\n",
              "      <td>71.2833</td>\n",
              "      <td>C</td>\n",
              "    </tr>\n",
              "    <tr>\n",
              "      <th>2</th>\n",
              "      <td>3</td>\n",
              "      <td>1</td>\n",
              "      <td>3</td>\n",
              "      <td>Heikkinen, Miss. Laina</td>\n",
              "      <td>female</td>\n",
              "      <td>26.0</td>\n",
              "      <td>0</td>\n",
              "      <td>0</td>\n",
              "      <td>7.9250</td>\n",
              "      <td>S</td>\n",
              "    </tr>\n",
              "    <tr>\n",
              "      <th>3</th>\n",
              "      <td>4</td>\n",
              "      <td>1</td>\n",
              "      <td>1</td>\n",
              "      <td>Futrelle, Mrs. Jacques Heath (Lily May Peel)</td>\n",
              "      <td>female</td>\n",
              "      <td>35.0</td>\n",
              "      <td>1</td>\n",
              "      <td>0</td>\n",
              "      <td>53.1000</td>\n",
              "      <td>S</td>\n",
              "    </tr>\n",
              "    <tr>\n",
              "      <th>4</th>\n",
              "      <td>5</td>\n",
              "      <td>0</td>\n",
              "      <td>3</td>\n",
              "      <td>Allen, Mr. William Henry</td>\n",
              "      <td>male</td>\n",
              "      <td>35.0</td>\n",
              "      <td>0</td>\n",
              "      <td>0</td>\n",
              "      <td>8.0500</td>\n",
              "      <td>S</td>\n",
              "    </tr>\n",
              "  </tbody>\n",
              "</table>\n",
              "</div>"
            ],
            "text/plain": [
              "   PassengerId  Survived  Pclass  ... Parch     Fare  Embarked\n",
              "0            1         0       3  ...     0   7.2500         S\n",
              "1            2         1       1  ...     0  71.2833         C\n",
              "2            3         1       3  ...     0   7.9250         S\n",
              "3            4         1       1  ...     0  53.1000         S\n",
              "4            5         0       3  ...     0   8.0500         S\n",
              "\n",
              "[5 rows x 10 columns]"
            ]
          },
          "metadata": {
            "tags": []
          },
          "execution_count": 15
        }
      ]
    },
    {
      "cell_type": "code",
      "metadata": {
        "colab": {
          "base_uri": "https://localhost:8080/",
          "height": 338
        },
        "id": "94pvYL_HrzlJ",
        "outputId": "92cc652e-9dea-4e6e-d1bb-31b086ec1761"
      },
      "source": [
        "testing.head()"
      ],
      "execution_count": 16,
      "outputs": [
        {
          "output_type": "execute_result",
          "data": {
            "text/html": [
              "<div>\n",
              "<style scoped>\n",
              "    .dataframe tbody tr th:only-of-type {\n",
              "        vertical-align: middle;\n",
              "    }\n",
              "\n",
              "    .dataframe tbody tr th {\n",
              "        vertical-align: top;\n",
              "    }\n",
              "\n",
              "    .dataframe thead th {\n",
              "        text-align: right;\n",
              "    }\n",
              "</style>\n",
              "<table border=\"1\" class=\"dataframe\">\n",
              "  <thead>\n",
              "    <tr style=\"text-align: right;\">\n",
              "      <th></th>\n",
              "      <th>PassengerId</th>\n",
              "      <th>Pclass</th>\n",
              "      <th>Name</th>\n",
              "      <th>Sex</th>\n",
              "      <th>Age</th>\n",
              "      <th>SibSp</th>\n",
              "      <th>Parch</th>\n",
              "      <th>Fare</th>\n",
              "      <th>Embarked</th>\n",
              "    </tr>\n",
              "  </thead>\n",
              "  <tbody>\n",
              "    <tr>\n",
              "      <th>0</th>\n",
              "      <td>892</td>\n",
              "      <td>3</td>\n",
              "      <td>Kelly, Mr. James</td>\n",
              "      <td>male</td>\n",
              "      <td>34.5</td>\n",
              "      <td>0</td>\n",
              "      <td>0</td>\n",
              "      <td>7.8292</td>\n",
              "      <td>Q</td>\n",
              "    </tr>\n",
              "    <tr>\n",
              "      <th>1</th>\n",
              "      <td>893</td>\n",
              "      <td>3</td>\n",
              "      <td>Wilkes, Mrs. James (Ellen Needs)</td>\n",
              "      <td>female</td>\n",
              "      <td>47.0</td>\n",
              "      <td>1</td>\n",
              "      <td>0</td>\n",
              "      <td>7.0000</td>\n",
              "      <td>S</td>\n",
              "    </tr>\n",
              "    <tr>\n",
              "      <th>2</th>\n",
              "      <td>894</td>\n",
              "      <td>2</td>\n",
              "      <td>Myles, Mr. Thomas Francis</td>\n",
              "      <td>male</td>\n",
              "      <td>62.0</td>\n",
              "      <td>0</td>\n",
              "      <td>0</td>\n",
              "      <td>9.6875</td>\n",
              "      <td>Q</td>\n",
              "    </tr>\n",
              "    <tr>\n",
              "      <th>3</th>\n",
              "      <td>895</td>\n",
              "      <td>3</td>\n",
              "      <td>Wirz, Mr. Albert</td>\n",
              "      <td>male</td>\n",
              "      <td>27.0</td>\n",
              "      <td>0</td>\n",
              "      <td>0</td>\n",
              "      <td>8.6625</td>\n",
              "      <td>S</td>\n",
              "    </tr>\n",
              "    <tr>\n",
              "      <th>4</th>\n",
              "      <td>896</td>\n",
              "      <td>3</td>\n",
              "      <td>Hirvonen, Mrs. Alexander (Helga E Lindqvist)</td>\n",
              "      <td>female</td>\n",
              "      <td>22.0</td>\n",
              "      <td>1</td>\n",
              "      <td>1</td>\n",
              "      <td>12.2875</td>\n",
              "      <td>S</td>\n",
              "    </tr>\n",
              "  </tbody>\n",
              "</table>\n",
              "</div>"
            ],
            "text/plain": [
              "   PassengerId  Pclass  ...     Fare Embarked\n",
              "0          892       3  ...   7.8292        Q\n",
              "1          893       3  ...   7.0000        S\n",
              "2          894       2  ...   9.6875        Q\n",
              "3          895       3  ...   8.6625        S\n",
              "4          896       3  ...  12.2875        S\n",
              "\n",
              "[5 rows x 9 columns]"
            ]
          },
          "metadata": {
            "tags": []
          },
          "execution_count": 16
        }
      ]
    },
    {
      "cell_type": "markdown",
      "metadata": {
        "id": "bQGw21Dysitq"
      },
      "source": [
        "# 4. Plotting and Visualizing Data\n",
        "It is very important to understand and visualize any data we are going to use in a machine learning model. By visualizing, we can see the trends and general associations of variables like Sex and Age with survival rate. We can make several different graphs for each feature we want to work with to see the entropy and information gain of the feature.\n",
        "\n",
        "---\n",
        "시각화를 통해 성별 및 연령과 같은 변수의 추세와 일반적인 연관성을 생존율과 연관시킬 수 있다.\n",
        "\n",
        "기능의 엔트로피와 정보 획득을 확인하기 위해 작업하려는 각 기능에 대해 여러가지 다른 그래프를 만들 수 있다.\n"
      ]
    },
    {
      "cell_type": "markdown",
      "metadata": {
        "id": "ekLC37Totv8s"
      },
      "source": [
        "**Gender**"
      ]
    },
    {
      "cell_type": "code",
      "metadata": {
        "colab": {
          "base_uri": "https://localhost:8080/",
          "height": 383
        },
        "id": "i40_7nEbtyHa",
        "outputId": "dab587fc-0de7-47e5-a4c7-c1e91ae86f91"
      },
      "source": [
        "#can ignore the testing set for now\n",
        "\n",
        "sns.barplot(x=\"Sex\", y=\"Survived\", data = training)\n",
        "plt.title(\"Distribution of Survival based on Gender\")\n",
        "plt.show()\n",
        "\n",
        "total_survived_females = training[training.Sex == \"female\"][\"Survived\"].sum()\n",
        "total_survived_males = training[training.Sex == \"male\"][\"Survived\"].sum()\n",
        "\n",
        "print(\"Total peaple survived is: \" + str((total_survived_females + total_survived_males)))\n",
        "print(\"Proportion of Females who survived:\")\n",
        "print(total_survived_females/(total_survived_females + total_survived_males))\n",
        "print(\"Proportion of Males who survived:\")\n",
        "print(total_survived_males/(total_survived_females + total_survived_males))"
      ],
      "execution_count": 19,
      "outputs": [
        {
          "output_type": "display_data",
          "data": {
            "image/png": "[encoded data removed]",
            "text/plain": [
              "<Figure size 432x288 with 1 Axes>"
            ]
          },
          "metadata": {
            "tags": [],
            "needs_background": "light"
          }
        },
        {
          "output_type": "stream",
          "text": [
            "Total peaple survived is: 342\n",
            "Proportion of Females who survived:\n",
            "0.6812865497076024\n",
            "Proportion of Males who survived:\n",
            "0.31871345029239767\n"
          ],
          "name": "stdout"
        }
      ]
    },
    {
      "cell_type": "markdown",
      "metadata": {
        "id": "UtM6UGrKxDdF"
      },
      "source": [
        "Note: The numbers printed above are the proportion of male/female survivors of all the surviviors ONLY. The graph shows the propotion of male/females out of ALL the passengers including those that didn't survive.\n",
        "\n",
        "---\n",
        "위에 print 된 숫자는 모든 생존자들 중 남자, 여자 생존자의 비율이다.\n",
        "\n",
        "그래프는 생존하지 못한 승객을 포함한 모든 승객들 중 남자, 여자의 비율을 보여준다.(???)\n"
      ]
    },
    {
      "cell_type": "markdown",
      "metadata": {
        "id": "5H21Gwhzxjmb"
      },
      "source": [
        "Gender appears to be a very good feature to use to predict survival, as shown by the large difference in propotion survived. Let's take a look at how class plays a role in survival as well."
      ]
    },
    {
      "cell_type": "markdown",
      "metadata": {
        "id": "cvoFHezix76E"
      },
      "source": [
        "**Class**"
      ]
    },
    {
      "cell_type": "code",
      "metadata": {
        "colab": {
          "base_uri": "https://localhost:8080/",
          "height": 418
        },
        "id": "8Te5dmh1x9ii",
        "outputId": "f7a13151-9d02-4e6b-878c-50cc4f61e857"
      },
      "source": [
        "sns.barplot(x=\"Pclass\", y=\"Survived\", data=training)\n",
        "plt.ylabel(\"Survival Rate\")\n",
        "plt.title(\"Distribution of Survival Based on Class\")\n",
        "plt.show()\n",
        "\n",
        "total_survived_one = training[training.Pclass == 1][\"Survived\"].sum()\n",
        "total_survived_two = training[training.Pclass == 2][\"Survived\"].sum()\n",
        "total_survived_three = training[training.Pclass == 3][\"Survived\"].sum()\n",
        "total_survived_class = total_survived_one + total_survived_two + total_survived_three\n",
        "\n",
        "print(\"Total people survived is:\" + str(total_survived_class))\n",
        "print(\"Proportion of Class 1 Passengers who survived:\")\n",
        "print(total_survived_one/total_survived_class)\n",
        "print(\"Proportion of Class 2 Passengers who survived:\")\n",
        "print(total_survived_two/total_survived_class)\n",
        "print(\"Proportion of Class 3 Passengers who survived:\")\n",
        "print(total_survived_three/total_survived_class)"
      ],
      "execution_count": 20,
      "outputs": [
        {
          "output_type": "display_data",
          "data": {
            "image/png": "[encoded data removed]",
            "text/plain": [
              "<Figure size 432x288 with 1 Axes>"
            ]
          },
          "metadata": {
            "tags": [],
            "needs_background": "light"
          }
        },
        {
          "output_type": "stream",
          "text": [
            "Total people survived is:342\n",
            "Proportion of Class 1 Passengers who survived:\n",
            "0.39766081871345027\n",
            "Proportion of Class 2 Passengers who survived:\n",
            "0.2543859649122807\n",
            "Proportion of Class 3 Passengers who survived:\n",
            "0.347953216374269\n"
          ],
          "name": "stdout"
        }
      ]
    },
    {
      "cell_type": "code",
      "metadata": {
        "colab": {
          "base_uri": "https://localhost:8080/",
          "height": 313
        },
        "id": "lRFQDXEdzPtV",
        "outputId": "401a7bc3-c080-4dad-a829-98d8ab4067a5"
      },
      "source": [
        "sns.barplot(x=\"Pclass\", y=\"Survived\", hue=\"Sex\", data=training)\n",
        "plt.ylabel(\"Survival Rate\")\n",
        "plt.title(\"Survival Rates Based on Gender and Class\")"
      ],
      "execution_count": 21,
      "outputs": [
        {
          "output_type": "execute_result",
          "data": {
            "text/plain": [
              "Text(0.5, 1.0, 'Survival Rates Based on Gender and Class')"
            ]
          },
          "metadata": {
            "tags": []
          },
          "execution_count": 21
        },
        {
          "output_type": "display_data",
          "data": {
            "image/png": "[encoded data removed]",
            "text/plain": [
              "<Figure size 432x288 with 1 Axes>"
            ]
          },
          "metadata": {
            "tags": [],
            "needs_background": "light"
          }
        }
      ]
    },
    {
      "cell_type": "code",
      "metadata": {
        "colab": {
          "base_uri": "https://localhost:8080/",
          "height": 313
        },
        "id": "L51s2_ICzkiG",
        "outputId": "d801b1db-9092-4dcc-a072-906b7281797d"
      },
      "source": [
        "sns.barplot(x=\"Sex\", y=\"Survived\", hue=\"Pclass\", data=training)\n",
        "plt.ylabel(\"Survival Rate\")\n",
        "plt.title(\"Survival Rates Based on Gender and Class\")"
      ],
      "execution_count": 22,
      "outputs": [
        {
          "output_type": "execute_result",
          "data": {
            "text/plain": [
              "Text(0.5, 1.0, 'Survival Rates Based on Gender and Class')"
            ]
          },
          "metadata": {
            "tags": []
          },
          "execution_count": 22
        },
        {
          "output_type": "display_data",
          "data": {
            "image/png": "[encoded data removed]",
            "text/plain": [
              "<Figure size 432x288 with 1 Axes>"
            ]
          },
          "metadata": {
            "tags": [],
            "needs_background": "light"
          }
        }
      ]
    },
    {
      "cell_type": "markdown",
      "metadata": {
        "id": "E9GC8meAz2gK"
      },
      "source": [
        "It appears that class also plays a role in survival, as shown by the bar graph. People in Pclass 1 were more likely to survive than people in the other 2 Pclasses."
      ]
    },
    {
      "cell_type": "markdown",
      "metadata": {
        "id": "N-GTSI0lz9zE"
      },
      "source": [
        "**Age**"
      ]
    },
    {
      "cell_type": "code",
      "metadata": {
        "colab": {
          "base_uri": "https://localhost:8080/",
          "height": 258
        },
        "id": "51wo1dccz_Rw",
        "outputId": "2f6f1316-2bc8-4ff0-f957-fc483ba49910"
      },
      "source": [
        "survived_ages = training[training.Survived == 1][\"Age\"]\n",
        "not_survived_ages = training[training.Survived == 0][\"Age\"]\n",
        "plt.subplot(1, 2, 1)\n",
        "sns.distplot(survived_ages, kde=False)\n",
        "plt.axis([0, 100, 0, 100])\n",
        "plt.title(\"Survived\")\n",
        "plt.ylabel(\"Proportion\")\n",
        "plt.subplot(1, 2, 2)\n",
        "sns.distplot(not_survived_ages, kde=False)\n",
        "plt.axis([0, 100, 0, 100])\n",
        "plt.title(\"Didn't Survive\")\n",
        "plt.subplots_adjust(right=1.7)\n",
        "plt.show()"
      ],
      "execution_count": 23,
      "outputs": [
        {
          "output_type": "display_data",
          "data": {
            "image/png": "[encoded data removed]",
            "text/plain": [
              "<Figure size 432x288 with 2 Axes>"
            ]
          },
          "metadata": {
            "tags": [],
            "needs_background": "light"
          }
        }
      ]
    },
    {
      "cell_type": "code",
      "metadata": {
        "colab": {
          "base_uri": "https://localhost:8080/",
          "height": 297
        },
        "id": "8Lclkc-g3C0V",
        "outputId": "7945cd26-07d1-491e-acfc-e4d6d14ff8a6"
      },
      "source": [
        "sns.stripplot(x=\"Survived\", y=\"Age\", data=training, jitter=True)"
      ],
      "execution_count": 24,
      "outputs": [
        {
          "output_type": "execute_result",
          "data": {
            "text/plain": [
              "<matplotlib.axes._subplots.AxesSubplot at 0x7f5d9dc3b810>"
            ]
          },
          "metadata": {
            "tags": []
          },
          "execution_count": 24
        },
        {
          "output_type": "display_data",
          "data": {
            "image/png": "[encoded data removed]",
            "text/plain": [
              "<Figure size 432x288 with 1 Axes>"
            ]
          },
          "metadata": {
            "tags": [],
            "needs_background": "light"
          }
        }
      ]
    },
    {
      "cell_type": "markdown",
      "metadata": {
        "id": "M1bTL5hf4btv"
      },
      "source": [
        "It appears as though passengers in the younger range of ages were more likely to survive than those in the older range of ages, as seen by the clustering in the strip plot, as well as the survival distributions of the histogram."
      ]
    },
    {
      "cell_type": "markdown",
      "metadata": {
        "id": "YjQMaOet4ck5"
      },
      "source": [
        "Here is one final cumulative graph of a pair plot that shows the relations between all of the different features\n",
        "\n",
        "---\n",
        "\n",
        "서로 다른 모든 기능 간의 관계를 보여주는 쌍 그림의 최종 누적 그래프"
      ]
    },
    {
      "cell_type": "code",
      "metadata": {
        "colab": {
          "base_uri": "https://localhost:8080/",
          "height": 680
        },
        "id": "2xiTWyo15eFk",
        "outputId": "d8e9c326-ee3c-462e-98d2-448624dbe045"
      },
      "source": [
        "sns.pairplot(training)"
      ],
      "execution_count": 25,
      "outputs": [
        {
          "output_type": "execute_result",
          "data": {
            "text/plain": [
              "<seaborn.axisgrid.PairGrid at 0x7f5d9dba62d0>"
            ]
          },
          "metadata": {
            "tags": []
          },
          "execution_count": 25
        },
        {
          "output_type": "display_data",
          "data": {
            "image/png": "[encoded data removed]",
            "text/plain": [
              "<Figure size 1260x1260 with 56 Axes>"
            ]
          },
          "metadata": {
            "tags": [],
            "needs_background": "light"
          }
        }
      ]
    },
    {
      "cell_type": "markdown",
      "metadata": {
        "id": "MMy6Zm3t5yvB"
      },
      "source": [
        "# 5. Feature Engineering\n",
        "Because values in the Sex and Embarked columns are categorical values, we have to represent these strings as numerical values in order to perform our classification with our model. We can also do this process through One-Hot-Encoding.\n",
        "\n",
        "---\n",
        "모델로 분류를 수행하려면 문자 값을 숫자 값으로 나타내야 한다. One-Hot-Encoding을 통해 이 프로세스를 수행 할 수 있다.\n"
      ]
    },
    {
      "cell_type": "code",
      "metadata": {
        "colab": {
          "base_uri": "https://localhost:8080/",
          "height": 442
        },
        "id": "sOOUMUVq6Pt_",
        "outputId": "13b614a3-157b-4047-9913-01f90709757f"
      },
      "source": [
        "training.sample(5)"
      ],
      "execution_count": 26,
      "outputs": [
        {
          "output_type": "execute_result",
          "data": {
            "text/html": [
              "<div>\n",
              "<style scoped>\n",
              "    .dataframe tbody tr th:only-of-type {\n",
              "        vertical-align: middle;\n",
              "    }\n",
              "\n",
              "    .dataframe tbody tr th {\n",
              "        vertical-align: top;\n",
              "    }\n",
              "\n",
              "    .dataframe thead th {\n",
              "        text-align: right;\n",
              "    }\n",
              "</style>\n",
              "<table border=\"1\" class=\"dataframe\">\n",
              "  <thead>\n",
              "    <tr style=\"text-align: right;\">\n",
              "      <th></th>\n",
              "      <th>PassengerId</th>\n",
              "      <th>Survived</th>\n",
              "      <th>Pclass</th>\n",
              "      <th>Name</th>\n",
              "      <th>Sex</th>\n",
              "      <th>Age</th>\n",
              "      <th>SibSp</th>\n",
              "      <th>Parch</th>\n",
              "      <th>Fare</th>\n",
              "      <th>Embarked</th>\n",
              "    </tr>\n",
              "  </thead>\n",
              "  <tbody>\n",
              "    <tr>\n",
              "      <th>771</th>\n",
              "      <td>772</td>\n",
              "      <td>0</td>\n",
              "      <td>3</td>\n",
              "      <td>Jensen, Mr. Niels Peder</td>\n",
              "      <td>male</td>\n",
              "      <td>48.0</td>\n",
              "      <td>0</td>\n",
              "      <td>0</td>\n",
              "      <td>7.8542</td>\n",
              "      <td>S</td>\n",
              "    </tr>\n",
              "    <tr>\n",
              "      <th>52</th>\n",
              "      <td>53</td>\n",
              "      <td>1</td>\n",
              "      <td>1</td>\n",
              "      <td>Harper, Mrs. Henry Sleeper (Myna Haxtun)</td>\n",
              "      <td>female</td>\n",
              "      <td>49.0</td>\n",
              "      <td>1</td>\n",
              "      <td>0</td>\n",
              "      <td>76.7292</td>\n",
              "      <td>C</td>\n",
              "    </tr>\n",
              "    <tr>\n",
              "      <th>733</th>\n",
              "      <td>734</td>\n",
              "      <td>0</td>\n",
              "      <td>2</td>\n",
              "      <td>Berriman, Mr. William John</td>\n",
              "      <td>male</td>\n",
              "      <td>23.0</td>\n",
              "      <td>0</td>\n",
              "      <td>0</td>\n",
              "      <td>13.0000</td>\n",
              "      <td>S</td>\n",
              "    </tr>\n",
              "    <tr>\n",
              "      <th>524</th>\n",
              "      <td>525</td>\n",
              "      <td>0</td>\n",
              "      <td>3</td>\n",
              "      <td>Kassem, Mr. Fared</td>\n",
              "      <td>male</td>\n",
              "      <td>28.0</td>\n",
              "      <td>0</td>\n",
              "      <td>0</td>\n",
              "      <td>7.2292</td>\n",
              "      <td>C</td>\n",
              "    </tr>\n",
              "    <tr>\n",
              "      <th>358</th>\n",
              "      <td>359</td>\n",
              "      <td>1</td>\n",
              "      <td>3</td>\n",
              "      <td>McGovern, Miss. Mary</td>\n",
              "      <td>female</td>\n",
              "      <td>28.0</td>\n",
              "      <td>0</td>\n",
              "      <td>0</td>\n",
              "      <td>7.8792</td>\n",
              "      <td>Q</td>\n",
              "    </tr>\n",
              "  </tbody>\n",
              "</table>\n",
              "</div>"
            ],
            "text/plain": [
              "     PassengerId  Survived  Pclass  ... Parch     Fare  Embarked\n",
              "771          772         0       3  ...     0   7.8542         S\n",
              "52            53         1       1  ...     0  76.7292         C\n",
              "733          734         0       2  ...     0  13.0000         S\n",
              "524          525         0       3  ...     0   7.2292         C\n",
              "358          359         1       3  ...     0   7.8792         Q\n",
              "\n",
              "[5 rows x 10 columns]"
            ]
          },
          "metadata": {
            "tags": []
          },
          "execution_count": 26
        }
      ]
    },
    {
      "cell_type": "code",
      "metadata": {
        "colab": {
          "base_uri": "https://localhost:8080/",
          "height": 371
        },
        "id": "LJYlF4Bx6VWz",
        "outputId": "9fbb39f1-e7a6-48d2-9df5-72a8da015932"
      },
      "source": [
        "testing.sample(5)"
      ],
      "execution_count": 27,
      "outputs": [
        {
          "output_type": "execute_result",
          "data": {
            "text/html": [
              "<div>\n",
              "<style scoped>\n",
              "    .dataframe tbody tr th:only-of-type {\n",
              "        vertical-align: middle;\n",
              "    }\n",
              "\n",
              "    .dataframe tbody tr th {\n",
              "        vertical-align: top;\n",
              "    }\n",
              "\n",
              "    .dataframe thead th {\n",
              "        text-align: right;\n",
              "    }\n",
              "</style>\n",
              "<table border=\"1\" class=\"dataframe\">\n",
              "  <thead>\n",
              "    <tr style=\"text-align: right;\">\n",
              "      <th></th>\n",
              "      <th>PassengerId</th>\n",
              "      <th>Pclass</th>\n",
              "      <th>Name</th>\n",
              "      <th>Sex</th>\n",
              "      <th>Age</th>\n",
              "      <th>SibSp</th>\n",
              "      <th>Parch</th>\n",
              "      <th>Fare</th>\n",
              "      <th>Embarked</th>\n",
              "    </tr>\n",
              "  </thead>\n",
              "  <tbody>\n",
              "    <tr>\n",
              "      <th>149</th>\n",
              "      <td>1041</td>\n",
              "      <td>2</td>\n",
              "      <td>Lahtinen, Rev. William</td>\n",
              "      <td>male</td>\n",
              "      <td>30.0</td>\n",
              "      <td>1</td>\n",
              "      <td>1</td>\n",
              "      <td>26.0000</td>\n",
              "      <td>S</td>\n",
              "    </tr>\n",
              "    <tr>\n",
              "      <th>148</th>\n",
              "      <td>1040</td>\n",
              "      <td>1</td>\n",
              "      <td>Crafton, Mr. John Bertram</td>\n",
              "      <td>male</td>\n",
              "      <td>28.0</td>\n",
              "      <td>0</td>\n",
              "      <td>0</td>\n",
              "      <td>26.5500</td>\n",
              "      <td>S</td>\n",
              "    </tr>\n",
              "    <tr>\n",
              "      <th>417</th>\n",
              "      <td>1309</td>\n",
              "      <td>3</td>\n",
              "      <td>Peter, Master. Michael J</td>\n",
              "      <td>male</td>\n",
              "      <td>28.0</td>\n",
              "      <td>1</td>\n",
              "      <td>1</td>\n",
              "      <td>22.3583</td>\n",
              "      <td>C</td>\n",
              "    </tr>\n",
              "    <tr>\n",
              "      <th>49</th>\n",
              "      <td>941</td>\n",
              "      <td>3</td>\n",
              "      <td>Coutts, Mrs. William (Winnie Minnie\" Treanor)\"</td>\n",
              "      <td>female</td>\n",
              "      <td>36.0</td>\n",
              "      <td>0</td>\n",
              "      <td>2</td>\n",
              "      <td>15.9000</td>\n",
              "      <td>S</td>\n",
              "    </tr>\n",
              "    <tr>\n",
              "      <th>55</th>\n",
              "      <td>947</td>\n",
              "      <td>3</td>\n",
              "      <td>Rice, Master. Albert</td>\n",
              "      <td>male</td>\n",
              "      <td>10.0</td>\n",
              "      <td>4</td>\n",
              "      <td>1</td>\n",
              "      <td>29.1250</td>\n",
              "      <td>Q</td>\n",
              "    </tr>\n",
              "  </tbody>\n",
              "</table>\n",
              "</div>"
            ],
            "text/plain": [
              "     PassengerId  Pclass  ...     Fare Embarked\n",
              "149         1041       2  ...  26.0000        S\n",
              "148         1040       1  ...  26.5500        S\n",
              "417         1309       3  ...  22.3583        C\n",
              "49           941       3  ...  15.9000        S\n",
              "55           947       3  ...  29.1250        Q\n",
              "\n",
              "[5 rows x 9 columns]"
            ]
          },
          "metadata": {
            "tags": []
          },
          "execution_count": 27
        }
      ]
    },
    {
      "cell_type": "markdown",
      "metadata": {
        "id": "VIQtEuJb6YgC"
      },
      "source": [
        "We change Sex to binary, as either 1 for female or 0 for male. We do the same for Embarked. We do this same process on both the training and testing set to prepare our data for Machine Learning.\n",
        "\n",
        "---\n",
        "여성을 1, 남성을 0으로 변경한다.\n",
        "Embarked 도 마찬가지.\n"
      ]
    },
    {
      "cell_type": "code",
      "metadata": {
        "colab": {
          "base_uri": "https://localhost:8080/"
        },
        "id": "PZDeGWJS6llj",
        "outputId": "cac24bf1-3698-430d-f00e-69cdf3f008a1"
      },
      "source": [
        "set(training[\"Embarked\"])"
      ],
      "execution_count": 29,
      "outputs": [
        {
          "output_type": "execute_result",
          "data": {
            "text/plain": [
              "{'C', 'Q', 'S'}"
            ]
          },
          "metadata": {
            "tags": []
          },
          "execution_count": 29
        }
      ]
    },
    {
      "cell_type": "markdown",
      "metadata": {
        "id": "n3U2MxJM6vy4"
      },
      "source": [
        "There are 3 values for Embarked: S, C, and Q. We will represent these with numbers as well."
      ]
    },
    {
      "cell_type": "code",
      "metadata": {
        "colab": {
          "base_uri": "https://localhost:8080/",
          "height": 141
        },
        "id": "2FWVdGVs6xGT",
        "outputId": "8eb9444c-36d5-46ce-fea8-7fecb7e7641d"
      },
      "source": [
        "from sklearn.preprocessing import LabelEncoder\n",
        "\n",
        "le_sex = LabelEncoder()\n",
        "le_sex.fit(training[\"Sex\"])\n",
        "\n",
        "encoded_sex_training = le_sex.transform(training[\"Sex\"])\n",
        "training[\"Sex\"] = encoded_sex_training\n",
        "encoded_sex_testing = le_sex.transform(testing[\"Sex\"])\n",
        "testing[\"Sex\"] = encoded_sex_testing\n",
        "\n",
        "le_embarked = LabelEncoder()\n",
        "le_embarked.fit(training[\"Embarked\"])\n",
        "\n",
        "encoded_embarked_training = le_embarked.transform(training[\"Embarked\"])\n",
        "training[\"Embarked\"] = encoded_embarked_training\n",
        "encoded_embarked_testing = le_embarked.transform(testing[\"Embarked\"])\n",
        "testing[\"Embarked\"] = encoded_embarked_testing\n",
        "\n",
        "#Here's how to do it manually in Python without packages\n",
        "\"\"\"\n",
        "training.loc[training[\"Sex\"] == \"male\", \"Sex\"] = 0\n",
        "training.loc[training[\"Sex\"] == \"female\", \"Sex\"] = 1\n",
        "\n",
        "training.loc[training[\"Embarked\"] == \"S\", \"Embarked\"] = 0\n",
        "training.loc[training[\"Embarked\"] == \"C\", \"Embarked\"] = 1\n",
        "training.loc[training[\"Embarked\"] == \"Q\", \"Embarked\"] = 2\n",
        "\n",
        "testing.loc[testing[\"Sex\"] == \"male\", \"Sex\"] = 0\n",
        "testing.loc[testing[\"Sex\"] == \"female\", \"Sex\"] = 1\n",
        "\n",
        "testing.loc[testing[\"Embarked\"] == \"S\", \"Embarked\"] = 0\n",
        "testing.loc[testing[\"Embarked\"] == \"C\", \"Embarked\"] = 1\n",
        "testing.loc[testing[\"Embarked\"] == \"Q\", \"Embarked\"] = 2\n",
        "\"\"\""
      ],
      "execution_count": 30,
      "outputs": [
        {
          "output_type": "execute_result",
          "data": {
            "application/vnd.google.colaboratory.intrinsic+json": {
              "type": "string"
            },
            "text/plain": [
              "'\\ntraining.loc[training[\"Sex\"] == \"male\", \"Sex\"] = 0\\ntraining.loc[training[\"Sex\"] == \"female\", \"Sex\"] = 1\\n\\ntraining.loc[training[\"Embarked\"] == \"S\", \"Embarked\"] = 0\\ntraining.loc[training[\"Embarked\"] == \"C\", \"Embarked\"] = 1\\ntraining.loc[training[\"Embarked\"] == \"Q\", \"Embarked\"] = 2\\n\\ntesting.loc[testing[\"Sex\"] == \"male\", \"Sex\"] = 0\\ntesting.loc[testing[\"Sex\"] == \"female\", \"Sex\"] = 1\\n\\ntesting.loc[testing[\"Embarked\"] == \"S\", \"Embarked\"] = 0\\ntesting.loc[testing[\"Embarked\"] == \"C\", \"Embarked\"] = 1\\ntesting.loc[testing[\"Embarked\"] == \"Q\", \"Embarked\"] = 2\\n'"
            ]
          },
          "metadata": {
            "tags": []
          },
          "execution_count": 30
        }
      ]
    },
    {
      "cell_type": "code",
      "metadata": {
        "colab": {
          "base_uri": "https://localhost:8080/",
          "height": 408
        },
        "id": "s9VSOmbO-liB",
        "outputId": "158282a2-53f3-42d0-a4d3-8ccc1362364d"
      },
      "source": [
        "training.sample(5)"
      ],
      "execution_count": 31,
      "outputs": [
        {
          "output_type": "execute_result",
          "data": {
            "text/html": [
              "<div>\n",
              "<style scoped>\n",
              "    .dataframe tbody tr th:only-of-type {\n",
              "        vertical-align: middle;\n",
              "    }\n",
              "\n",
              "    .dataframe tbody tr th {\n",
              "        vertical-align: top;\n",
              "    }\n",
              "\n",
              "    .dataframe thead th {\n",
              "        text-align: right;\n",
              "    }\n",
              "</style>\n",
              "<table border=\"1\" class=\"dataframe\">\n",
              "  <thead>\n",
              "    <tr style=\"text-align: right;\">\n",
              "      <th></th>\n",
              "      <th>PassengerId</th>\n",
              "      <th>Survived</th>\n",
              "      <th>Pclass</th>\n",
              "      <th>Name</th>\n",
              "      <th>Sex</th>\n",
              "      <th>Age</th>\n",
              "      <th>SibSp</th>\n",
              "      <th>Parch</th>\n",
              "      <th>Fare</th>\n",
              "      <th>Embarked</th>\n",
              "    </tr>\n",
              "  </thead>\n",
              "  <tbody>\n",
              "    <tr>\n",
              "      <th>755</th>\n",
              "      <td>756</td>\n",
              "      <td>1</td>\n",
              "      <td>2</td>\n",
              "      <td>Hamalainen, Master. Viljo</td>\n",
              "      <td>1</td>\n",
              "      <td>0.67</td>\n",
              "      <td>1</td>\n",
              "      <td>1</td>\n",
              "      <td>14.5000</td>\n",
              "      <td>2</td>\n",
              "    </tr>\n",
              "    <tr>\n",
              "      <th>649</th>\n",
              "      <td>650</td>\n",
              "      <td>1</td>\n",
              "      <td>3</td>\n",
              "      <td>Stanley, Miss. Amy Zillah Elsie</td>\n",
              "      <td>0</td>\n",
              "      <td>23.00</td>\n",
              "      <td>0</td>\n",
              "      <td>0</td>\n",
              "      <td>7.5500</td>\n",
              "      <td>2</td>\n",
              "    </tr>\n",
              "    <tr>\n",
              "      <th>81</th>\n",
              "      <td>82</td>\n",
              "      <td>1</td>\n",
              "      <td>3</td>\n",
              "      <td>Sheerlinck, Mr. Jan Baptist</td>\n",
              "      <td>1</td>\n",
              "      <td>29.00</td>\n",
              "      <td>0</td>\n",
              "      <td>0</td>\n",
              "      <td>9.5000</td>\n",
              "      <td>2</td>\n",
              "    </tr>\n",
              "    <tr>\n",
              "      <th>167</th>\n",
              "      <td>168</td>\n",
              "      <td>0</td>\n",
              "      <td>3</td>\n",
              "      <td>Skoog, Mrs. William (Anna Bernhardina Karlsson)</td>\n",
              "      <td>0</td>\n",
              "      <td>45.00</td>\n",
              "      <td>1</td>\n",
              "      <td>4</td>\n",
              "      <td>27.9000</td>\n",
              "      <td>2</td>\n",
              "    </tr>\n",
              "    <tr>\n",
              "      <th>395</th>\n",
              "      <td>396</td>\n",
              "      <td>0</td>\n",
              "      <td>3</td>\n",
              "      <td>Johansson, Mr. Erik</td>\n",
              "      <td>1</td>\n",
              "      <td>22.00</td>\n",
              "      <td>0</td>\n",
              "      <td>0</td>\n",
              "      <td>7.7958</td>\n",
              "      <td>2</td>\n",
              "    </tr>\n",
              "  </tbody>\n",
              "</table>\n",
              "</div>"
            ],
            "text/plain": [
              "     PassengerId  Survived  Pclass  ... Parch     Fare  Embarked\n",
              "755          756         1       2  ...     1  14.5000         2\n",
              "649          650         1       3  ...     0   7.5500         2\n",
              "81            82         1       3  ...     0   9.5000         2\n",
              "167          168         0       3  ...     4  27.9000         2\n",
              "395          396         0       3  ...     0   7.7958         2\n",
              "\n",
              "[5 rows x 10 columns]"
            ]
          },
          "metadata": {
            "tags": []
          },
          "execution_count": 31
        }
      ]
    },
    {
      "cell_type": "code",
      "metadata": {
        "colab": {
          "base_uri": "https://localhost:8080/",
          "height": 338
        },
        "id": "L6R1cDzs-q92",
        "outputId": "f7af3e44-c901-4159-91c5-2e4c3c6af51f"
      },
      "source": [
        "testing.sample(5)"
      ],
      "execution_count": 32,
      "outputs": [
        {
          "output_type": "execute_result",
          "data": {
            "text/html": [
              "<div>\n",
              "<style scoped>\n",
              "    .dataframe tbody tr th:only-of-type {\n",
              "        vertical-align: middle;\n",
              "    }\n",
              "\n",
              "    .dataframe tbody tr th {\n",
              "        vertical-align: top;\n",
              "    }\n",
              "\n",
              "    .dataframe thead th {\n",
              "        text-align: right;\n",
              "    }\n",
              "</style>\n",
              "<table border=\"1\" class=\"dataframe\">\n",
              "  <thead>\n",
              "    <tr style=\"text-align: right;\">\n",
              "      <th></th>\n",
              "      <th>PassengerId</th>\n",
              "      <th>Pclass</th>\n",
              "      <th>Name</th>\n",
              "      <th>Sex</th>\n",
              "      <th>Age</th>\n",
              "      <th>SibSp</th>\n",
              "      <th>Parch</th>\n",
              "      <th>Fare</th>\n",
              "      <th>Embarked</th>\n",
              "    </tr>\n",
              "  </thead>\n",
              "  <tbody>\n",
              "    <tr>\n",
              "      <th>107</th>\n",
              "      <td>999</td>\n",
              "      <td>3</td>\n",
              "      <td>Ryan, Mr. Edward</td>\n",
              "      <td>1</td>\n",
              "      <td>28.0</td>\n",
              "      <td>0</td>\n",
              "      <td>0</td>\n",
              "      <td>7.750</td>\n",
              "      <td>1</td>\n",
              "    </tr>\n",
              "    <tr>\n",
              "      <th>320</th>\n",
              "      <td>1212</td>\n",
              "      <td>3</td>\n",
              "      <td>Andersson, Mr. Johan Samuel</td>\n",
              "      <td>1</td>\n",
              "      <td>26.0</td>\n",
              "      <td>0</td>\n",
              "      <td>0</td>\n",
              "      <td>7.775</td>\n",
              "      <td>2</td>\n",
              "    </tr>\n",
              "    <tr>\n",
              "      <th>96</th>\n",
              "      <td>988</td>\n",
              "      <td>1</td>\n",
              "      <td>Cavendish, Mrs. Tyrell William (Julia Florence...</td>\n",
              "      <td>0</td>\n",
              "      <td>76.0</td>\n",
              "      <td>1</td>\n",
              "      <td>0</td>\n",
              "      <td>78.850</td>\n",
              "      <td>2</td>\n",
              "    </tr>\n",
              "    <tr>\n",
              "      <th>330</th>\n",
              "      <td>1222</td>\n",
              "      <td>2</td>\n",
              "      <td>Davies, Mrs. John Morgan (Elizabeth Agnes Mary...</td>\n",
              "      <td>0</td>\n",
              "      <td>48.0</td>\n",
              "      <td>0</td>\n",
              "      <td>2</td>\n",
              "      <td>36.750</td>\n",
              "      <td>2</td>\n",
              "    </tr>\n",
              "    <tr>\n",
              "      <th>120</th>\n",
              "      <td>1012</td>\n",
              "      <td>2</td>\n",
              "      <td>Watt, Miss. Bertha J</td>\n",
              "      <td>0</td>\n",
              "      <td>12.0</td>\n",
              "      <td>0</td>\n",
              "      <td>0</td>\n",
              "      <td>15.750</td>\n",
              "      <td>2</td>\n",
              "    </tr>\n",
              "  </tbody>\n",
              "</table>\n",
              "</div>"
            ],
            "text/plain": [
              "     PassengerId  Pclass  ...    Fare  Embarked\n",
              "107          999       3  ...   7.750         1\n",
              "320         1212       3  ...   7.775         2\n",
              "96           988       1  ...  78.850         2\n",
              "330         1222       2  ...  36.750         2\n",
              "120         1012       2  ...  15.750         2\n",
              "\n",
              "[5 rows x 9 columns]"
            ]
          },
          "metadata": {
            "tags": []
          },
          "execution_count": 32
        }
      ]
    },
    {
      "cell_type": "markdown",
      "metadata": {
        "id": "46YVu3cjB9O_"
      },
      "source": [
        "# Creating Synthetic Features\n",
        "Sometimes it is useful to create synthetic features that we think may help us predict the target value.\n",
        "\n",
        "---\n",
        "합성 기능?\n"
      ]
    },
    {
      "cell_type": "markdown",
      "metadata": {
        "id": "JYGXpN8DCKI_"
      },
      "source": [
        "We can combine SibSp and Parch into one synthetic feature called family size, which indicates the total number of family members on board for each member."
      ]
    },
    {
      "cell_type": "code",
      "metadata": {
        "id": "0qqmg4WdCMz5"
      },
      "source": [
        "training[\"FamSize\"] = training[\"SibSp\"] + training[\"Parch\"] + 1\n",
        "testing[\"FamSize\"] = testing[\"SibSp\"] + testing[\"Parch\"] + 1"
      ],
      "execution_count": 34,
      "outputs": []
    },
    {
      "cell_type": "markdown",
      "metadata": {
        "id": "GGcp3NKODVGd"
      },
      "source": [
        "This IsAlone feature also may work well with the data we're dealing with, telling us whether the passenger was along or not on the ship.\n",
        "\n",
        "---\n",
        "\n",
        "IsAlone 기능 : 우리가 다루는 데이터와 잘 작동하여 승객이 배에 있는지 여부를 알려준다."
      ]
    },
    {
      "cell_type": "code",
      "metadata": {
        "id": "HevB-gfODdnU"
      },
      "source": [
        "training[\"IsAlone\"] = training.FamSize.apply(lambda x: 1 if x == 1 else 0)\n",
        "testing[\"IsAlone\"] = testing.FamSize.apply(lambda x: 1 if x == 1 else 0)"
      ],
      "execution_count": 35,
      "outputs": []
    },
    {
      "cell_type": "markdown",
      "metadata": {
        "id": "_G8xkxXiD0U6"
      },
      "source": [
        "Although it may not seem like it, we can also extract some useful information from the name column. Not the actual names themselves, but the title of their names like Ms. or Mr. This may also provide a hint as to whether the passenger survived or not. Therefore we can extract this title and then encode it like we did for Sex and Embarked.\n",
        "\n",
        "---\n",
        "\n",
        "이름 열에서 유용한 정보를 추출 할 수도 있다. Ms. 또는 Mr. 과 같은 title도 승객의 생존 여부에 대한 힌트를 제공 할 수 있다. 따라서 이 title을 추출한 다음 Sex, Embarked 에서 했던 것처럼 인코딩 할 수 있다. "
      ]
    },
    {
      "cell_type": "code",
      "metadata": {
        "id": "zMl1IsrMEO8K"
      },
      "source": [
        "for name in training[\"Name\"]:\n",
        "    training[\"Title\"] = training[\"Name\"].str.extract(\"([A-Za-z]+)\\.\", expand=True)\n",
        "\n",
        "for name in testing[\"Name\"]:\n",
        "    testing[\"Title\"] = testing[\"Name\"].str.extract(\"([A-Za-z]+)\\.\", expand=True)\n"
      ],
      "execution_count": 36,
      "outputs": []
    },
    {
      "cell_type": "code",
      "metadata": {
        "colab": {
          "base_uri": "https://localhost:8080/",
          "height": 492
        },
        "id": "DXJYjPW3Evre",
        "outputId": "38f74fa4-2312-4d25-c24e-e1b5b6c725dd"
      },
      "source": [
        "training.head()   #Title column added"
      ],
      "execution_count": 37,
      "outputs": [
        {
          "output_type": "execute_result",
          "data": {
            "text/html": [
              "<div>\n",
              "<style scoped>\n",
              "    .dataframe tbody tr th:only-of-type {\n",
              "        vertical-align: middle;\n",
              "    }\n",
              "\n",
              "    .dataframe tbody tr th {\n",
              "        vertical-align: top;\n",
              "    }\n",
              "\n",
              "    .dataframe thead th {\n",
              "        text-align: right;\n",
              "    }\n",
              "</style>\n",
              "<table border=\"1\" class=\"dataframe\">\n",
              "  <thead>\n",
              "    <tr style=\"text-align: right;\">\n",
              "      <th></th>\n",
              "      <th>PassengerId</th>\n",
              "      <th>Survived</th>\n",
              "      <th>Pclass</th>\n",
              "      <th>Name</th>\n",
              "      <th>Sex</th>\n",
              "      <th>Age</th>\n",
              "      <th>SibSp</th>\n",
              "      <th>Parch</th>\n",
              "      <th>Fare</th>\n",
              "      <th>Embarked</th>\n",
              "      <th>FamSize</th>\n",
              "      <th>IsAlone</th>\n",
              "      <th>Title</th>\n",
              "    </tr>\n",
              "  </thead>\n",
              "  <tbody>\n",
              "    <tr>\n",
              "      <th>0</th>\n",
              "      <td>1</td>\n",
              "      <td>0</td>\n",
              "      <td>3</td>\n",
              "      <td>Braund, Mr. Owen Harris</td>\n",
              "      <td>1</td>\n",
              "      <td>22.0</td>\n",
              "      <td>1</td>\n",
              "      <td>0</td>\n",
              "      <td>7.2500</td>\n",
              "      <td>2</td>\n",
              "      <td>2</td>\n",
              "      <td>0</td>\n",
              "      <td>Mr</td>\n",
              "    </tr>\n",
              "    <tr>\n",
              "      <th>1</th>\n",
              "      <td>2</td>\n",
              "      <td>1</td>\n",
              "      <td>1</td>\n",
              "      <td>Cumings, Mrs. John Bradley (Florence Briggs Th...</td>\n",
              "      <td>0</td>\n",
              "      <td>38.0</td>\n",
              "      <td>1</td>\n",
              "      <td>0</td>\n",
              "      <td>71.2833</td>\n",
              "      <td>0</td>\n",
              "      <td>2</td>\n",
              "      <td>0</td>\n",
              "      <td>Mrs</td>\n",
              "    </tr>\n",
              "    <tr>\n",
              "      <th>2</th>\n",
              "      <td>3</td>\n",
              "      <td>1</td>\n",
              "      <td>3</td>\n",
              "      <td>Heikkinen, Miss. Laina</td>\n",
              "      <td>0</td>\n",
              "      <td>26.0</td>\n",
              "      <td>0</td>\n",
              "      <td>0</td>\n",
              "      <td>7.9250</td>\n",
              "      <td>2</td>\n",
              "      <td>1</td>\n",
              "      <td>1</td>\n",
              "      <td>Miss</td>\n",
              "    </tr>\n",
              "    <tr>\n",
              "      <th>3</th>\n",
              "      <td>4</td>\n",
              "      <td>1</td>\n",
              "      <td>1</td>\n",
              "      <td>Futrelle, Mrs. Jacques Heath (Lily May Peel)</td>\n",
              "      <td>0</td>\n",
              "      <td>35.0</td>\n",
              "      <td>1</td>\n",
              "      <td>0</td>\n",
              "      <td>53.1000</td>\n",
              "      <td>2</td>\n",
              "      <td>2</td>\n",
              "      <td>0</td>\n",
              "      <td>Mrs</td>\n",
              "    </tr>\n",
              "    <tr>\n",
              "      <th>4</th>\n",
              "      <td>5</td>\n",
              "      <td>0</td>\n",
              "      <td>3</td>\n",
              "      <td>Allen, Mr. William Henry</td>\n",
              "      <td>1</td>\n",
              "      <td>35.0</td>\n",
              "      <td>0</td>\n",
              "      <td>0</td>\n",
              "      <td>8.0500</td>\n",
              "      <td>2</td>\n",
              "      <td>1</td>\n",
              "      <td>1</td>\n",
              "      <td>Mr</td>\n",
              "    </tr>\n",
              "  </tbody>\n",
              "</table>\n",
              "</div>"
            ],
            "text/plain": [
              "   PassengerId  Survived  Pclass  ... FamSize  IsAlone  Title\n",
              "0            1         0       3  ...       2        0     Mr\n",
              "1            2         1       1  ...       2        0    Mrs\n",
              "2            3         1       3  ...       1        1   Miss\n",
              "3            4         1       1  ...       2        0    Mrs\n",
              "4            5         0       3  ...       1        1     Mr\n",
              "\n",
              "[5 rows x 13 columns]"
            ]
          },
          "metadata": {
            "tags": []
          },
          "execution_count": 37
        }
      ]
    },
    {
      "cell_type": "code",
      "metadata": {
        "colab": {
          "base_uri": "https://localhost:8080/"
        },
        "id": "24hw8Au5E4dQ",
        "outputId": "894274ae-7332-4997-ac30-ab38c4b5cf34"
      },
      "source": [
        "titles = set(training[\"Title\"])   #making it a set gets rid of all duplicates 세트로 만들면 모든 중복 항목이 제거된다\n",
        "print(titles)"
      ],
      "execution_count": 38,
      "outputs": [
        {
          "output_type": "stream",
          "text": [
            "{'Mr', 'Ms', 'Jonkheer', 'Mme', 'Don', 'Rev', 'Dr', 'Mlle', 'Capt', 'Countess', 'Lady', 'Col', 'Major', 'Sir', 'Mrs', 'Master', 'Miss'}\n"
          ],
          "name": "stdout"
        }
      ]
    },
    {
      "cell_type": "code",
      "metadata": {
        "colab": {
          "base_uri": "https://localhost:8080/"
        },
        "id": "L0md1yMvFLKT",
        "outputId": "a9d3f4d7-4b19-4d16-c60e-438308bae683"
      },
      "source": [
        "title_list = list(training[\"Title\"])\n",
        "frequency_titles = []\n",
        "\n",
        "for i in titles:\n",
        "    frequency_titles.append(title_list.count(i))\n",
        "\n",
        "print(frequency_titles)"
      ],
      "execution_count": 40,
      "outputs": [
        {
          "output_type": "stream",
          "text": [
            "[517, 1, 1, 1, 1, 6, 7, 2, 1, 1, 1, 2, 2, 1, 125, 40, 182]\n"
          ],
          "name": "stdout"
        }
      ]
    },
    {
      "cell_type": "code",
      "metadata": {
        "colab": {
          "base_uri": "https://localhost:8080/"
        },
        "id": "Al-2XKwcFlqr",
        "outputId": "86d25b39-d92f-4001-e0c7-00bafbe4cf6c"
      },
      "source": [
        "titles = list(titles)\n",
        "\n",
        "title_dataframe = pd.DataFrame({\n",
        "    \"Titles\" : titles,\n",
        "    \"Frequency\" : frequency_titles\n",
        "})\n",
        "\n",
        "print(title_dataframe)"
      ],
      "execution_count": 41,
      "outputs": [
        {
          "output_type": "stream",
          "text": [
            "      Titles  Frequency\n",
            "0         Mr        517\n",
            "1         Ms          1\n",
            "2   Jonkheer          1\n",
            "3        Mme          1\n",
            "4        Don          1\n",
            "5        Rev          6\n",
            "6         Dr          7\n",
            "7       Mlle          2\n",
            "8       Capt          1\n",
            "9   Countess          1\n",
            "10      Lady          1\n",
            "11       Col          2\n",
            "12     Major          2\n",
            "13       Sir          1\n",
            "14       Mrs        125\n",
            "15    Master         40\n",
            "16      Miss        182\n"
          ],
          "name": "stdout"
        }
      ]
    },
    {
      "cell_type": "code",
      "metadata": {
        "colab": {
          "base_uri": "https://localhost:8080/",
          "height": 176
        },
        "id": "vQiVBQZ0F4cz",
        "outputId": "39e5a52a-479e-4d4f-e75a-e8d164f7ef70"
      },
      "source": [
        "title_replacements = {\"Mlle\": \"Other\", \"Major\": \"Other\", \"Col\": \"Other\", \"Sir\": \"Other\", \"Don\": \"Other\", \"Mme\": \"Other\",\n",
        "          \"Jonkheer\": \"Other\", \"Lady\": \"Other\", \"Capt\": \"Other\", \"Countess\": \"Other\", \"Ms\": \"Other\", \"Dona\": \"Other\"}\n",
        "\n",
        "training.replace({\"Title\": title_replacements}, inplace=True)\n",
        "testing.replace({\"Title\": title_replacements}, inplace=True)\n",
        "\n",
        "le_title = LabelEncoder()\n",
        "le_title.fit(training[\"Title\"])\n",
        "\n",
        "encoded_title_training = le_title.transform(training[\"Title\"])\n",
        "training[\"Title\"] = encoded_title_training\n",
        "encoded_title_testing = le_title.transform(testing[\"Title\"])\n",
        "testing[\"Title\"] = encoded_title_testing\n",
        "\n",
        "#Again, here's how to do it manually\n",
        "\"\"\"\n",
        "training.loc[training[\"Title\"] == \"Miss\", \"Title\"] = 0\n",
        "training.loc[training[\"Title\"] == \"Mr\", \"Title\"] = 1\n",
        "training.loc[training[\"Title\"] == \"Mrs\", \"Title\"] = 2\n",
        "training.loc[training[\"Title\"] == \"Master\", \"Title\"] = 3\n",
        "training.loc[training[\"Title\"] == \"Dr\", \"Title\"] = 4\n",
        "training.loc[training[\"Title\"] == \"Rev\", \"Title\"] = 5\n",
        "training.loc[training[\"Title\"] == \"Other\", \"Title\"] = 6\n",
        "\n",
        "testing.loc[testing[\"Title\"] == \"Miss\", \"Title\"] = 0\n",
        "testing.loc[testing[\"Title\"] == \"Mr\", \"Title\"] = 1\n",
        "testing.loc[testing[\"Title\"] == \"Mrs\", \"Title\"] = 2\n",
        "testing.loc[testing[\"Title\"] == \"Master\", \"Title\"] = 3\n",
        "testing.loc[testing[\"Title\"] == \"Dr\", \"Title\"] = 4\n",
        "testing.loc[testing[\"Title\"] == \"Rev\", \"Title\"] = 5\n",
        "testing.loc[testing[\"Title\"] == \"Other\", \"Title\"] = 6\n",
        "\"\"\""
      ],
      "execution_count": 42,
      "outputs": [
        {
          "output_type": "execute_result",
          "data": {
            "application/vnd.google.colaboratory.intrinsic+json": {
              "type": "string"
            },
            "text/plain": [
              "'\\ntraining.loc[training[\"Title\"] == \"Miss\", \"Title\"] = 0\\ntraining.loc[training[\"Title\"] == \"Mr\", \"Title\"] = 1\\ntraining.loc[training[\"Title\"] == \"Mrs\", \"Title\"] = 2\\ntraining.loc[training[\"Title\"] == \"Master\", \"Title\"] = 3\\ntraining.loc[training[\"Title\"] == \"Dr\", \"Title\"] = 4\\ntraining.loc[training[\"Title\"] == \"Rev\", \"Title\"] = 5\\ntraining.loc[training[\"Title\"] == \"Other\", \"Title\"] = 6\\n\\ntesting.loc[testing[\"Title\"] == \"Miss\", \"Title\"] = 0\\ntesting.loc[testing[\"Title\"] == \"Mr\", \"Title\"] = 1\\ntesting.loc[testing[\"Title\"] == \"Mrs\", \"Title\"] = 2\\ntesting.loc[testing[\"Title\"] == \"Master\", \"Title\"] = 3\\ntesting.loc[testing[\"Title\"] == \"Dr\", \"Title\"] = 4\\ntesting.loc[testing[\"Title\"] == \"Rev\", \"Title\"] = 5\\ntesting.loc[testing[\"Title\"] == \"Other\", \"Title\"] = 6\\n'"
            ]
          },
          "metadata": {
            "tags": []
          },
          "execution_count": 42
        }
      ]
    },
    {
      "cell_type": "code",
      "metadata": {
        "id": "4Ru956h5GIIj"
      },
      "source": [
        "training.drop(\"Name\", axis = 1, inplace = True)\n",
        "testing.drop(\"Name\", axis = 1, inplace = True)"
      ],
      "execution_count": 43,
      "outputs": []
    },
    {
      "cell_type": "code",
      "metadata": {
        "colab": {
          "base_uri": "https://localhost:8080/",
          "height": 223
        },
        "id": "782ibONFGJrC",
        "outputId": "8cc1d14d-e41e-4c49-df0b-ddca3e796cbe"
      },
      "source": [
        "training.sample(5)"
      ],
      "execution_count": 44,
      "outputs": [
        {
          "output_type": "execute_result",
          "data": {
            "text/html": [
              "<div>\n",
              "<style scoped>\n",
              "    .dataframe tbody tr th:only-of-type {\n",
              "        vertical-align: middle;\n",
              "    }\n",
              "\n",
              "    .dataframe tbody tr th {\n",
              "        vertical-align: top;\n",
              "    }\n",
              "\n",
              "    .dataframe thead th {\n",
              "        text-align: right;\n",
              "    }\n",
              "</style>\n",
              "<table border=\"1\" class=\"dataframe\">\n",
              "  <thead>\n",
              "    <tr style=\"text-align: right;\">\n",
              "      <th></th>\n",
              "      <th>PassengerId</th>\n",
              "      <th>Survived</th>\n",
              "      <th>Pclass</th>\n",
              "      <th>Sex</th>\n",
              "      <th>Age</th>\n",
              "      <th>SibSp</th>\n",
              "      <th>Parch</th>\n",
              "      <th>Fare</th>\n",
              "      <th>Embarked</th>\n",
              "      <th>FamSize</th>\n",
              "      <th>IsAlone</th>\n",
              "      <th>Title</th>\n",
              "    </tr>\n",
              "  </thead>\n",
              "  <tbody>\n",
              "    <tr>\n",
              "      <th>164</th>\n",
              "      <td>165</td>\n",
              "      <td>0</td>\n",
              "      <td>3</td>\n",
              "      <td>1</td>\n",
              "      <td>1.0</td>\n",
              "      <td>4</td>\n",
              "      <td>1</td>\n",
              "      <td>39.6875</td>\n",
              "      <td>2</td>\n",
              "      <td>6</td>\n",
              "      <td>0</td>\n",
              "      <td>1</td>\n",
              "    </tr>\n",
              "    <tr>\n",
              "      <th>310</th>\n",
              "      <td>311</td>\n",
              "      <td>1</td>\n",
              "      <td>1</td>\n",
              "      <td>0</td>\n",
              "      <td>24.0</td>\n",
              "      <td>0</td>\n",
              "      <td>0</td>\n",
              "      <td>83.1583</td>\n",
              "      <td>0</td>\n",
              "      <td>1</td>\n",
              "      <td>1</td>\n",
              "      <td>2</td>\n",
              "    </tr>\n",
              "    <tr>\n",
              "      <th>505</th>\n",
              "      <td>506</td>\n",
              "      <td>0</td>\n",
              "      <td>1</td>\n",
              "      <td>1</td>\n",
              "      <td>18.0</td>\n",
              "      <td>1</td>\n",
              "      <td>0</td>\n",
              "      <td>108.9000</td>\n",
              "      <td>0</td>\n",
              "      <td>2</td>\n",
              "      <td>0</td>\n",
              "      <td>3</td>\n",
              "    </tr>\n",
              "    <tr>\n",
              "      <th>787</th>\n",
              "      <td>788</td>\n",
              "      <td>0</td>\n",
              "      <td>3</td>\n",
              "      <td>1</td>\n",
              "      <td>8.0</td>\n",
              "      <td>4</td>\n",
              "      <td>1</td>\n",
              "      <td>29.1250</td>\n",
              "      <td>1</td>\n",
              "      <td>6</td>\n",
              "      <td>0</td>\n",
              "      <td>1</td>\n",
              "    </tr>\n",
              "    <tr>\n",
              "      <th>874</th>\n",
              "      <td>875</td>\n",
              "      <td>1</td>\n",
              "      <td>2</td>\n",
              "      <td>0</td>\n",
              "      <td>28.0</td>\n",
              "      <td>1</td>\n",
              "      <td>0</td>\n",
              "      <td>24.0000</td>\n",
              "      <td>0</td>\n",
              "      <td>2</td>\n",
              "      <td>0</td>\n",
              "      <td>4</td>\n",
              "    </tr>\n",
              "  </tbody>\n",
              "</table>\n",
              "</div>"
            ],
            "text/plain": [
              "     PassengerId  Survived  Pclass  Sex  ...  Embarked  FamSize  IsAlone  Title\n",
              "164          165         0       3    1  ...         2        6        0      1\n",
              "310          311         1       1    0  ...         0        1        1      2\n",
              "505          506         0       1    1  ...         0        2        0      3\n",
              "787          788         0       3    1  ...         1        6        0      1\n",
              "874          875         1       2    0  ...         0        2        0      4\n",
              "\n",
              "[5 rows x 12 columns]"
            ]
          },
          "metadata": {
            "tags": []
          },
          "execution_count": 44
        }
      ]
    },
    {
      "cell_type": "code",
      "metadata": {
        "colab": {
          "base_uri": "https://localhost:8080/",
          "height": 223
        },
        "id": "bdDd2Y76GMVp",
        "outputId": "69124ed9-5c03-4704-960d-f170d0db5555"
      },
      "source": [
        "testing.sample(5)"
      ],
      "execution_count": 45,
      "outputs": [
        {
          "output_type": "execute_result",
          "data": {
            "text/html": [
              "<div>\n",
              "<style scoped>\n",
              "    .dataframe tbody tr th:only-of-type {\n",
              "        vertical-align: middle;\n",
              "    }\n",
              "\n",
              "    .dataframe tbody tr th {\n",
              "        vertical-align: top;\n",
              "    }\n",
              "\n",
              "    .dataframe thead th {\n",
              "        text-align: right;\n",
              "    }\n",
              "</style>\n",
              "<table border=\"1\" class=\"dataframe\">\n",
              "  <thead>\n",
              "    <tr style=\"text-align: right;\">\n",
              "      <th></th>\n",
              "      <th>PassengerId</th>\n",
              "      <th>Pclass</th>\n",
              "      <th>Sex</th>\n",
              "      <th>Age</th>\n",
              "      <th>SibSp</th>\n",
              "      <th>Parch</th>\n",
              "      <th>Fare</th>\n",
              "      <th>Embarked</th>\n",
              "      <th>FamSize</th>\n",
              "      <th>IsAlone</th>\n",
              "      <th>Title</th>\n",
              "    </tr>\n",
              "  </thead>\n",
              "  <tbody>\n",
              "    <tr>\n",
              "      <th>254</th>\n",
              "      <td>1146</td>\n",
              "      <td>3</td>\n",
              "      <td>1</td>\n",
              "      <td>32.5</td>\n",
              "      <td>0</td>\n",
              "      <td>0</td>\n",
              "      <td>9.5000</td>\n",
              "      <td>2</td>\n",
              "      <td>1</td>\n",
              "      <td>1</td>\n",
              "      <td>3</td>\n",
              "    </tr>\n",
              "    <tr>\n",
              "      <th>133</th>\n",
              "      <td>1025</td>\n",
              "      <td>3</td>\n",
              "      <td>1</td>\n",
              "      <td>28.0</td>\n",
              "      <td>1</td>\n",
              "      <td>0</td>\n",
              "      <td>6.4375</td>\n",
              "      <td>0</td>\n",
              "      <td>2</td>\n",
              "      <td>0</td>\n",
              "      <td>3</td>\n",
              "    </tr>\n",
              "    <tr>\n",
              "      <th>223</th>\n",
              "      <td>1115</td>\n",
              "      <td>3</td>\n",
              "      <td>1</td>\n",
              "      <td>21.0</td>\n",
              "      <td>0</td>\n",
              "      <td>0</td>\n",
              "      <td>7.7958</td>\n",
              "      <td>2</td>\n",
              "      <td>1</td>\n",
              "      <td>1</td>\n",
              "      <td>3</td>\n",
              "    </tr>\n",
              "    <tr>\n",
              "      <th>266</th>\n",
              "      <td>1158</td>\n",
              "      <td>1</td>\n",
              "      <td>1</td>\n",
              "      <td>28.0</td>\n",
              "      <td>0</td>\n",
              "      <td>0</td>\n",
              "      <td>0.0000</td>\n",
              "      <td>2</td>\n",
              "      <td>1</td>\n",
              "      <td>1</td>\n",
              "      <td>3</td>\n",
              "    </tr>\n",
              "    <tr>\n",
              "      <th>34</th>\n",
              "      <td>926</td>\n",
              "      <td>1</td>\n",
              "      <td>1</td>\n",
              "      <td>30.0</td>\n",
              "      <td>1</td>\n",
              "      <td>0</td>\n",
              "      <td>57.7500</td>\n",
              "      <td>0</td>\n",
              "      <td>2</td>\n",
              "      <td>0</td>\n",
              "      <td>3</td>\n",
              "    </tr>\n",
              "  </tbody>\n",
              "</table>\n",
              "</div>"
            ],
            "text/plain": [
              "     PassengerId  Pclass  Sex   Age  ...  Embarked  FamSize  IsAlone  Title\n",
              "254         1146       3    1  32.5  ...         2        1        1      3\n",
              "133         1025       3    1  28.0  ...         0        2        0      3\n",
              "223         1115       3    1  21.0  ...         2        1        1      3\n",
              "266         1158       1    1  28.0  ...         2        1        1      3\n",
              "34           926       1    1  30.0  ...         0        2        0      3\n",
              "\n",
              "[5 rows x 11 columns]"
            ]
          },
          "metadata": {
            "tags": []
          },
          "execution_count": 45
        }
      ]
    },
    {
      "cell_type": "markdown",
      "metadata": {
        "id": "txx0-ofvGVcx"
      },
      "source": [
        "Cool! All the features are in numerical form now. It is ready to be fed into our model. Before we do that however, there's something else that we should notice when looking at the preprocessed data. Particularly, the Age and Fare feature values.\n",
        "\n",
        "---\n",
        "\n",
        "이제 모두 숫자 형식이므로 모델에 공급할 준비가 되었다. 하지만 그 전에 전처리 된 데이터를 볼 때 주의해야 할 또 다른 것이 있다. 특히 Age, Fare Feature 값이다."
      ]
    },
    {
      "cell_type": "markdown",
      "metadata": {
        "id": "85X4BFm8GvN6"
      },
      "source": [
        "# 6. Feature Rescaling\n",
        "If you take a look at the Age and Fare features above, you can see that the values deviate heavily from the other features. This may cause some problems when we are modelling, since it may make these features seem more important than others. It would be beneficial to scale them so they are more representative. We can do this with both a MinMaxScaler or a StandardScaler. I will do this with a StandardScaler. The steps are shown below.\n",
        "\n",
        "---\n",
        "위의 Age, Fare 값을 보면 다른 값과 크게 차이가 있음을 알 수 있다. 이로 인해 모델링 할 때 더 중요해 보일 수 있으므로 문제가 발생할 수 있다. 더 대표적으로 확장(?)하는 것이 좋다. MinMaxScaler 또는 StandardScaler 둘 다 이를 수행 할 수 있다. 저는 StandardScaler로 이 작업을 수행합니다.\n"
      ]
    },
    {
      "cell_type": "code",
      "metadata": {
        "id": "Rd44Z5AvHi39"
      },
      "source": [
        "from sklearn.preprocessing import StandardScaler\n",
        "\n",
        "scaler = StandardScaler()\n",
        "\n",
        "#We need to reshape our data since the Scaler takes in arrays\n",
        "ages_train = np.array(training[\"Age\"]).reshape(-1, 1)\n",
        "fares_train = np.array(training[\"Fare\"]).reshape(-1, 1)\n",
        "ages_test = np.array(testing[\"Age\"]).reshape(-1, 1)\n",
        "fares_test = np.array(testing[\"Fare\"]).reshape(-1, 1)\n",
        "\n",
        "training[\"Age\"] = scaler.fit_transform(ages_train)\n",
        "training[\"Fare\"] = scaler.fit_transform(fares_train)\n",
        "testing[\"Age\"] = scaler.fit_transform(ages_test)\n",
        "testing[\"Fare\"] = scaler.fit_transform(fares_test)\n",
        "\n",
        "#You can try with MinMaxScaler as well to see how it performs in comparison, just replace StandardScaler with MinMaxScaler"
      ],
      "execution_count": 46,
      "outputs": []
    },
    {
      "cell_type": "code",
      "metadata": {
        "colab": {
          "base_uri": "https://localhost:8080/",
          "height": 223
        },
        "id": "jJAPSwqpHzdR",
        "outputId": "fbf62150-a7ca-40ca-94da-d99cdbca05ac"
      },
      "source": [
        "training.head()"
      ],
      "execution_count": 47,
      "outputs": [
        {
          "output_type": "execute_result",
          "data": {
            "text/html": [
              "<div>\n",
              "<style scoped>\n",
              "    .dataframe tbody tr th:only-of-type {\n",
              "        vertical-align: middle;\n",
              "    }\n",
              "\n",
              "    .dataframe tbody tr th {\n",
              "        vertical-align: top;\n",
              "    }\n",
              "\n",
              "    .dataframe thead th {\n",
              "        text-align: right;\n",
              "    }\n",
              "</style>\n",
              "<table border=\"1\" class=\"dataframe\">\n",
              "  <thead>\n",
              "    <tr style=\"text-align: right;\">\n",
              "      <th></th>\n",
              "      <th>PassengerId</th>\n",
              "      <th>Survived</th>\n",
              "      <th>Pclass</th>\n",
              "      <th>Sex</th>\n",
              "      <th>Age</th>\n",
              "      <th>SibSp</th>\n",
              "      <th>Parch</th>\n",
              "      <th>Fare</th>\n",
              "      <th>Embarked</th>\n",
              "      <th>FamSize</th>\n",
              "      <th>IsAlone</th>\n",
              "      <th>Title</th>\n",
              "    </tr>\n",
              "  </thead>\n",
              "  <tbody>\n",
              "    <tr>\n",
              "      <th>0</th>\n",
              "      <td>1</td>\n",
              "      <td>0</td>\n",
              "      <td>3</td>\n",
              "      <td>1</td>\n",
              "      <td>-0.565736</td>\n",
              "      <td>1</td>\n",
              "      <td>0</td>\n",
              "      <td>-0.502445</td>\n",
              "      <td>2</td>\n",
              "      <td>2</td>\n",
              "      <td>0</td>\n",
              "      <td>3</td>\n",
              "    </tr>\n",
              "    <tr>\n",
              "      <th>1</th>\n",
              "      <td>2</td>\n",
              "      <td>1</td>\n",
              "      <td>1</td>\n",
              "      <td>0</td>\n",
              "      <td>0.663861</td>\n",
              "      <td>1</td>\n",
              "      <td>0</td>\n",
              "      <td>0.786845</td>\n",
              "      <td>0</td>\n",
              "      <td>2</td>\n",
              "      <td>0</td>\n",
              "      <td>4</td>\n",
              "    </tr>\n",
              "    <tr>\n",
              "      <th>2</th>\n",
              "      <td>3</td>\n",
              "      <td>1</td>\n",
              "      <td>3</td>\n",
              "      <td>0</td>\n",
              "      <td>-0.258337</td>\n",
              "      <td>0</td>\n",
              "      <td>0</td>\n",
              "      <td>-0.488854</td>\n",
              "      <td>2</td>\n",
              "      <td>1</td>\n",
              "      <td>1</td>\n",
              "      <td>2</td>\n",
              "    </tr>\n",
              "    <tr>\n",
              "      <th>3</th>\n",
              "      <td>4</td>\n",
              "      <td>1</td>\n",
              "      <td>1</td>\n",
              "      <td>0</td>\n",
              "      <td>0.433312</td>\n",
              "      <td>1</td>\n",
              "      <td>0</td>\n",
              "      <td>0.420730</td>\n",
              "      <td>2</td>\n",
              "      <td>2</td>\n",
              "      <td>0</td>\n",
              "      <td>4</td>\n",
              "    </tr>\n",
              "    <tr>\n",
              "      <th>4</th>\n",
              "      <td>5</td>\n",
              "      <td>0</td>\n",
              "      <td>3</td>\n",
              "      <td>1</td>\n",
              "      <td>0.433312</td>\n",
              "      <td>0</td>\n",
              "      <td>0</td>\n",
              "      <td>-0.486337</td>\n",
              "      <td>2</td>\n",
              "      <td>1</td>\n",
              "      <td>1</td>\n",
              "      <td>3</td>\n",
              "    </tr>\n",
              "  </tbody>\n",
              "</table>\n",
              "</div>"
            ],
            "text/plain": [
              "   PassengerId  Survived  Pclass  Sex  ...  Embarked  FamSize  IsAlone  Title\n",
              "0            1         0       3    1  ...         2        2        0      3\n",
              "1            2         1       1    0  ...         0        2        0      4\n",
              "2            3         1       3    0  ...         2        1        1      2\n",
              "3            4         1       1    0  ...         2        2        0      4\n",
              "4            5         0       3    1  ...         2        1        1      3\n",
              "\n",
              "[5 rows x 12 columns]"
            ]
          },
          "metadata": {
            "tags": []
          },
          "execution_count": 47
        }
      ]
    },
    {
      "cell_type": "code",
      "metadata": {
        "colab": {
          "base_uri": "https://localhost:8080/",
          "height": 223
        },
        "id": "9PB5Q5V0H3EL",
        "outputId": "a2e32f5a-6072-4db8-83e1-8173a0faba01"
      },
      "source": [
        "testing.head()"
      ],
      "execution_count": 48,
      "outputs": [
        {
          "output_type": "execute_result",
          "data": {
            "text/html": [
              "<div>\n",
              "<style scoped>\n",
              "    .dataframe tbody tr th:only-of-type {\n",
              "        vertical-align: middle;\n",
              "    }\n",
              "\n",
              "    .dataframe tbody tr th {\n",
              "        vertical-align: top;\n",
              "    }\n",
              "\n",
              "    .dataframe thead th {\n",
              "        text-align: right;\n",
              "    }\n",
              "</style>\n",
              "<table border=\"1\" class=\"dataframe\">\n",
              "  <thead>\n",
              "    <tr style=\"text-align: right;\">\n",
              "      <th></th>\n",
              "      <th>PassengerId</th>\n",
              "      <th>Pclass</th>\n",
              "      <th>Sex</th>\n",
              "      <th>Age</th>\n",
              "      <th>SibSp</th>\n",
              "      <th>Parch</th>\n",
              "      <th>Fare</th>\n",
              "      <th>Embarked</th>\n",
              "      <th>FamSize</th>\n",
              "      <th>IsAlone</th>\n",
              "      <th>Title</th>\n",
              "    </tr>\n",
              "  </thead>\n",
              "  <tbody>\n",
              "    <tr>\n",
              "      <th>0</th>\n",
              "      <td>892</td>\n",
              "      <td>3</td>\n",
              "      <td>1</td>\n",
              "      <td>0.371062</td>\n",
              "      <td>0</td>\n",
              "      <td>0</td>\n",
              "      <td>-0.497413</td>\n",
              "      <td>1</td>\n",
              "      <td>1</td>\n",
              "      <td>1</td>\n",
              "      <td>3</td>\n",
              "    </tr>\n",
              "    <tr>\n",
              "      <th>1</th>\n",
              "      <td>893</td>\n",
              "      <td>3</td>\n",
              "      <td>0</td>\n",
              "      <td>1.358985</td>\n",
              "      <td>1</td>\n",
              "      <td>0</td>\n",
              "      <td>-0.512278</td>\n",
              "      <td>2</td>\n",
              "      <td>2</td>\n",
              "      <td>0</td>\n",
              "      <td>4</td>\n",
              "    </tr>\n",
              "    <tr>\n",
              "      <th>2</th>\n",
              "      <td>894</td>\n",
              "      <td>2</td>\n",
              "      <td>1</td>\n",
              "      <td>2.544493</td>\n",
              "      <td>0</td>\n",
              "      <td>0</td>\n",
              "      <td>-0.464100</td>\n",
              "      <td>1</td>\n",
              "      <td>1</td>\n",
              "      <td>1</td>\n",
              "      <td>3</td>\n",
              "    </tr>\n",
              "    <tr>\n",
              "      <th>3</th>\n",
              "      <td>895</td>\n",
              "      <td>3</td>\n",
              "      <td>1</td>\n",
              "      <td>-0.221692</td>\n",
              "      <td>0</td>\n",
              "      <td>0</td>\n",
              "      <td>-0.482475</td>\n",
              "      <td>2</td>\n",
              "      <td>1</td>\n",
              "      <td>1</td>\n",
              "      <td>3</td>\n",
              "    </tr>\n",
              "    <tr>\n",
              "      <th>4</th>\n",
              "      <td>896</td>\n",
              "      <td>3</td>\n",
              "      <td>0</td>\n",
              "      <td>-0.616861</td>\n",
              "      <td>1</td>\n",
              "      <td>1</td>\n",
              "      <td>-0.417492</td>\n",
              "      <td>2</td>\n",
              "      <td>3</td>\n",
              "      <td>0</td>\n",
              "      <td>4</td>\n",
              "    </tr>\n",
              "  </tbody>\n",
              "</table>\n",
              "</div>"
            ],
            "text/plain": [
              "   PassengerId  Pclass  Sex       Age  ...  Embarked  FamSize  IsAlone  Title\n",
              "0          892       3    1  0.371062  ...         1        1        1      3\n",
              "1          893       3    0  1.358985  ...         2        2        0      4\n",
              "2          894       2    1  2.544493  ...         1        1        1      3\n",
              "3          895       3    1 -0.221692  ...         2        1        1      3\n",
              "4          896       3    0 -0.616861  ...         2        3        0      4\n",
              "\n",
              "[5 rows x 11 columns]"
            ]
          },
          "metadata": {
            "tags": []
          },
          "execution_count": 48
        }
      ]
    },
    {
      "cell_type": "markdown",
      "metadata": {
        "id": "XfCPpnHQH6SQ"
      },
      "source": [
        "This feature scaling may allow for higher accuracy for our models because of the reduced weight of their magnitudes!\n",
        "\n",
        "\n",
        "---\n",
        "\n",
        "규모의 무게 감소로 모델의 정확도 높일 수 있다.\n"
      ]
    },
    {
      "cell_type": "markdown",
      "metadata": {
        "id": "G8SnanZ0IZai"
      },
      "source": [
        "# 7. Model Fitting, Optimizing, and Predicting\n",
        "Now that our data has been processed and formmated properly, and that we understand the general data we're working with as well as the trends and associations, we can start to build our model. We can import different classifiers from sklearn. We will try different types of models to see which one gives the best accuracy for its predictions.\n",
        "\n",
        "---\n",
        "\n",
        "이제 데이터가 제대로 처리되고 형식화 되었으며 우리가 작업하는 일반 데이터와 추세 및 연관성을 이해했으므로 모델 구축을 시작 할 수 있다.\n",
        "\n",
        "sklearn에서 다른 분류기를 가져올 수 있다. 어떤 모델이 예측에 가장 정확한지 알아보기 위해 다양한 유형의 모델을 시도해 볼 것이다."
      ]
    },
    {
      "cell_type": "markdown",
      "metadata": {
        "id": "9MFPKChXIuvK"
      },
      "source": [
        "**sklearn Models to Test**"
      ]
    },
    {
      "cell_type": "code",
      "metadata": {
        "id": "TlbuWpJcIyEK"
      },
      "source": [
        "from sklearn.svm import SVC, LinearSVC\n",
        "from sklearn.ensemble import RandomForestClassifier\n",
        "from sklearn.linear_model import LogisticRegression\n",
        "from sklearn.neighbors import KNeighborsClassifier\n",
        "from sklearn.naive_bayes import GaussianNB\n",
        "from sklearn.tree import DecisionTreeClassifier"
      ],
      "execution_count": 49,
      "outputs": []
    },
    {
      "cell_type": "markdown",
      "metadata": {
        "id": "GJHUOO1vJmzq"
      },
      "source": [
        "To evaluate our model performance, we can use the make_scorer and accuracy_score function from sklearn metrics.\n",
        "\n",
        "---\n",
        "모델 성능 평가 위해 sklearn 메트릭에서 make_scorer, accuracy_score 함수를 사용할 수 있다.\n"
      ]
    },
    {
      "cell_type": "code",
      "metadata": {
        "id": "gA9DPSeLJx18"
      },
      "source": [
        "from sklearn.metrics import make_scorer, accuracy_score "
      ],
      "execution_count": 50,
      "outputs": []
    },
    {
      "cell_type": "markdown",
      "metadata": {
        "id": "vLCX3di2J2sJ"
      },
      "source": [
        "We can also use a GridSearch cross validation to find the optimal parameters for the model we choose to work with and use to predict on our testing set.\n",
        "\n",
        "---\n",
        "\n",
        "또한 GridSearch 교차 유효성 검사를 사용하여 작업하기로 선택한 모델에 대한 최적의 매개 변수를 찾고 테스트 세트에서 예측하는 데 사용할 수 있습니다."
      ]
    },
    {
      "cell_type": "code",
      "metadata": {
        "id": "nSjJUGrRJ6t7"
      },
      "source": [
        "from sklearn.model_selection import GridSearchCV"
      ],
      "execution_count": 51,
      "outputs": []
    },
    {
      "cell_type": "markdown",
      "metadata": {
        "id": "dUshpDQEJ9L6"
      },
      "source": [
        "**Defining Features in Training/Test Set**"
      ]
    },
    {
      "cell_type": "code",
      "metadata": {
        "id": "HfX1xXlKJ_YZ"
      },
      "source": [
        "X_train = training.drop(labels=[\"PassengerId\", \"Survived\"], axis=1) #define training features set\n",
        "y_train = training[\"Survived\"] #define training label set\n",
        "X_test = testing.drop(\"PassengerId\", axis=1) #define testing features set\n",
        "#we don't have y_test, that is what we're trying to predict with our model"
      ],
      "execution_count": 52,
      "outputs": []
    },
    {
      "cell_type": "code",
      "metadata": {
        "colab": {
          "base_uri": "https://localhost:8080/",
          "height": 223
        },
        "id": "S7LUuNnhKBjI",
        "outputId": "bbd0a9af-5562-45eb-a497-0dccc0d6b037"
      },
      "source": [
        "X_train.head()"
      ],
      "execution_count": 53,
      "outputs": [
        {
          "output_type": "execute_result",
          "data": {
            "text/html": [
              "<div>\n",
              "<style scoped>\n",
              "    .dataframe tbody tr th:only-of-type {\n",
              "        vertical-align: middle;\n",
              "    }\n",
              "\n",
              "    .dataframe tbody tr th {\n",
              "        vertical-align: top;\n",
              "    }\n",
              "\n",
              "    .dataframe thead th {\n",
              "        text-align: right;\n",
              "    }\n",
              "</style>\n",
              "<table border=\"1\" class=\"dataframe\">\n",
              "  <thead>\n",
              "    <tr style=\"text-align: right;\">\n",
              "      <th></th>\n",
              "      <th>Pclass</th>\n",
              "      <th>Sex</th>\n",
              "      <th>Age</th>\n",
              "      <th>SibSp</th>\n",
              "      <th>Parch</th>\n",
              "      <th>Fare</th>\n",
              "      <th>Embarked</th>\n",
              "      <th>FamSize</th>\n",
              "      <th>IsAlone</th>\n",
              "      <th>Title</th>\n",
              "    </tr>\n",
              "  </thead>\n",
              "  <tbody>\n",
              "    <tr>\n",
              "      <th>0</th>\n",
              "      <td>3</td>\n",
              "      <td>1</td>\n",
              "      <td>-0.565736</td>\n",
              "      <td>1</td>\n",
              "      <td>0</td>\n",
              "      <td>-0.502445</td>\n",
              "      <td>2</td>\n",
              "      <td>2</td>\n",
              "      <td>0</td>\n",
              "      <td>3</td>\n",
              "    </tr>\n",
              "    <tr>\n",
              "      <th>1</th>\n",
              "      <td>1</td>\n",
              "      <td>0</td>\n",
              "      <td>0.663861</td>\n",
              "      <td>1</td>\n",
              "      <td>0</td>\n",
              "      <td>0.786845</td>\n",
              "      <td>0</td>\n",
              "      <td>2</td>\n",
              "      <td>0</td>\n",
              "      <td>4</td>\n",
              "    </tr>\n",
              "    <tr>\n",
              "      <th>2</th>\n",
              "      <td>3</td>\n",
              "      <td>0</td>\n",
              "      <td>-0.258337</td>\n",
              "      <td>0</td>\n",
              "      <td>0</td>\n",
              "      <td>-0.488854</td>\n",
              "      <td>2</td>\n",
              "      <td>1</td>\n",
              "      <td>1</td>\n",
              "      <td>2</td>\n",
              "    </tr>\n",
              "    <tr>\n",
              "      <th>3</th>\n",
              "      <td>1</td>\n",
              "      <td>0</td>\n",
              "      <td>0.433312</td>\n",
              "      <td>1</td>\n",
              "      <td>0</td>\n",
              "      <td>0.420730</td>\n",
              "      <td>2</td>\n",
              "      <td>2</td>\n",
              "      <td>0</td>\n",
              "      <td>4</td>\n",
              "    </tr>\n",
              "    <tr>\n",
              "      <th>4</th>\n",
              "      <td>3</td>\n",
              "      <td>1</td>\n",
              "      <td>0.433312</td>\n",
              "      <td>0</td>\n",
              "      <td>0</td>\n",
              "      <td>-0.486337</td>\n",
              "      <td>2</td>\n",
              "      <td>1</td>\n",
              "      <td>1</td>\n",
              "      <td>3</td>\n",
              "    </tr>\n",
              "  </tbody>\n",
              "</table>\n",
              "</div>"
            ],
            "text/plain": [
              "   Pclass  Sex       Age  SibSp  ...  Embarked  FamSize  IsAlone  Title\n",
              "0       3    1 -0.565736      1  ...         2        2        0      3\n",
              "1       1    0  0.663861      1  ...         0        2        0      4\n",
              "2       3    0 -0.258337      0  ...         2        1        1      2\n",
              "3       1    0  0.433312      1  ...         2        2        0      4\n",
              "4       3    1  0.433312      0  ...         2        1        1      3\n",
              "\n",
              "[5 rows x 10 columns]"
            ]
          },
          "metadata": {
            "tags": []
          },
          "execution_count": 53
        }
      ]
    },
    {
      "cell_type": "markdown",
      "metadata": {
        "id": "DFoO-jLfKDfr"
      },
      "source": [
        "**Validation Data Set**\n",
        "\n",
        "Although we already have a test set, it is generally easy to overfit the data with these classifiers. It is therefore useful to have a third data set called the validation data set to ensure that our model doesn't overfit with the data. We can make this third data set with sklearn's train_test_split function. We can also use the validation data set to test the general accuracy of our model.\n",
        "\n",
        "---\n",
        "모델이 데이터에 과적합하지 않도록 유효성 검사 데이터 세트라는 세 번째 데이터 세트를 사용하는 것이 유용하다. sklearn의 train_test_split함수로 이 세 번째 데이터 세트를 만들 수 있다. 검증 데이터 세트를 사용하여 모델의 일반적인 정확도를 테스트 할 수도 있다.\n"
      ]
    },
    {
      "cell_type": "code",
      "metadata": {
        "id": "wZar7k75Kc5n"
      },
      "source": [
        "from sklearn.model_selection import train_test_split #to create validation data set\n",
        "\n",
        "X_training, X_valid, y_training, y_valid = train_test_split(X_train, y_train, test_size=0.2, random_state=0) #X_valid and y_valid are the validation sets"
      ],
      "execution_count": 55,
      "outputs": []
    },
    {
      "cell_type": "markdown",
      "metadata": {
        "id": "H2rS2X5_KklJ"
      },
      "source": [
        "**SVC Model**"
      ]
    },
    {
      "cell_type": "code",
      "metadata": {
        "colab": {
          "base_uri": "https://localhost:8080/"
        },
        "id": "5miYNRP4Kl7F",
        "outputId": "8539733a-af53-4ca9-b428-11b99b28b259"
      },
      "source": [
        "svc_clf = SVC() \n",
        "\n",
        "parameters_svc = {\"kernel\": [\"rbf\", \"linear\"], \"probability\": [True, False], \"verbose\": [True, False]}\n",
        "\n",
        "grid_svc = GridSearchCV(svc_clf, parameters_svc, scoring=make_scorer(accuracy_score))\n",
        "grid_svc.fit(X_training, y_training)\n",
        "\n",
        "svc_clf = grid_svc.best_estimator_\n",
        "\n",
        "svc_clf.fit(X_training, y_training)\n",
        "pred_svc = svc_clf.predict(X_valid)\n",
        "acc_svc = accuracy_score(y_valid, pred_svc)"
      ],
      "execution_count": 56,
      "outputs": [
        {
          "output_type": "stream",
          "text": [
            "[LibSVM][LibSVM][LibSVM][LibSVM][LibSVM][LibSVM][LibSVM][LibSVM][LibSVM][LibSVM][LibSVM][LibSVM][LibSVM][LibSVM][LibSVM][LibSVM][LibSVM][LibSVM][LibSVM][LibSVM][LibSVM][LibSVM]"
          ],
          "name": "stdout"
        }
      ]
    },
    {
      "cell_type": "code",
      "metadata": {
        "colab": {
          "base_uri": "https://localhost:8080/"
        },
        "id": "-yezjsthKpQ1",
        "outputId": "4e8c7ced-a5c4-4e85-cc1d-60d5c1436c74"
      },
      "source": [
        "print(\"The Score for SVC is: \" + str(acc_svc))"
      ],
      "execution_count": 57,
      "outputs": [
        {
          "output_type": "stream",
          "text": [
            "The Score for SVC is: 0.8212290502793296\n"
          ],
          "name": "stdout"
        }
      ]
    },
    {
      "cell_type": "markdown",
      "metadata": {
        "id": "4DVC_WQQKrE9"
      },
      "source": [
        "**LinearSVC Model**"
      ]
    },
    {
      "cell_type": "code",
      "metadata": {
        "colab": {
          "base_uri": "https://localhost:8080/"
        },
        "id": "1-1g6JnBKtc-",
        "outputId": "b49a9001-d930-4624-bf1c-827ffe15b0b6"
      },
      "source": [
        "linsvc_clf = LinearSVC()\n",
        "\n",
        "parameters_linsvc = {\"multi_class\": [\"ovr\", \"crammer_singer\"], \"fit_intercept\": [True, False], \"max_iter\": [100, 500, 1000, 1500]}\n",
        "\n",
        "grid_linsvc = GridSearchCV(linsvc_clf, parameters_linsvc, scoring=make_scorer(accuracy_score))\n",
        "grid_linsvc.fit(X_training, y_training)\n",
        "\n",
        "linsvc_clf = grid_linsvc.best_estimator_\n",
        "\n",
        "linsvc_clf.fit(X_training, y_training)\n",
        "pred_linsvc = linsvc_clf.predict(X_valid)\n",
        "acc_linsvc = accuracy_score(y_valid, pred_linsvc)\n",
        "\n",
        "print(\"The Score for LinearSVC is: \" + str(acc_linsvc))"
      ],
      "execution_count": 58,
      "outputs": [
        {
          "output_type": "stream",
          "text": [
            "The Score for LinearSVC is: 0.7932960893854749\n"
          ],
          "name": "stdout"
        }
      ]
    },
    {
      "cell_type": "markdown",
      "metadata": {
        "id": "9bSpP1DvKyuM"
      },
      "source": [
        "**RandomForest Model**"
      ]
    },
    {
      "cell_type": "code",
      "metadata": {
        "colab": {
          "base_uri": "https://localhost:8080/"
        },
        "id": "JnqY9kgaK1CS",
        "outputId": "ff86310a-3857-4c07-aa59-b3db95457eb9"
      },
      "source": [
        "rf_clf = RandomForestClassifier()\n",
        "\n",
        "parameters_rf = {\"n_estimators\": [4, 5, 6, 7, 8, 9, 10, 15], \"criterion\": [\"gini\", \"entropy\"], \"max_features\": [\"auto\", \"sqrt\", \"log2\"], \n",
        "                 \"max_depth\": [2, 3, 5, 10], \"min_samples_split\": [2, 3, 5, 10]}\n",
        "\n",
        "grid_rf = GridSearchCV(rf_clf, parameters_rf, scoring=make_scorer(accuracy_score))\n",
        "grid_rf.fit(X_training, y_training)\n",
        "\n",
        "rf_clf = grid_rf.best_estimator_\n",
        "\n",
        "rf_clf.fit(X_training, y_training)\n",
        "pred_rf = rf_clf.predict(X_valid)\n",
        "acc_rf = accuracy_score(y_valid, pred_rf)\n",
        "\n",
        "print(\"The Score for Random Forest is: \" + str(acc_rf))"
      ],
      "execution_count": 59,
      "outputs": [
        {
          "output_type": "stream",
          "text": [
            "The Score for Random Forest is: 0.8268156424581006\n"
          ],
          "name": "stdout"
        }
      ]
    },
    {
      "cell_type": "markdown",
      "metadata": {
        "id": "8EYsjnZgLIUw"
      },
      "source": [
        "**LogisiticRegression Model**"
      ]
    },
    {
      "cell_type": "code",
      "metadata": {
        "colab": {
          "base_uri": "https://localhost:8080/"
        },
        "id": "r16t0Y3CLKIR",
        "outputId": "9740b2e4-fc8e-4e88-e3e4-bcf78c6db34a"
      },
      "source": [
        "logreg_clf = LogisticRegression()\n",
        "\n",
        "parameters_logreg = {\"penalty\": [\"l2\"], \"fit_intercept\": [True, False], \"solver\": [\"newton-cg\", \"lbfgs\", \"liblinear\", \"sag\", \"saga\"],\n",
        "                     \"max_iter\": [50, 100, 200], \"warm_start\": [True, False]}\n",
        "\n",
        "grid_logreg = GridSearchCV(logreg_clf, parameters_logreg, scoring=make_scorer(accuracy_score))\n",
        "grid_logreg.fit(X_training, y_training)\n",
        "\n",
        "logreg_clf = grid_logreg.best_estimator_\n",
        "\n",
        "logreg_clf.fit(X_training, y_training)\n",
        "pred_logreg = logreg_clf.predict(X_valid)\n",
        "acc_logreg = accuracy_score(y_valid, pred_logreg)\n",
        "\n",
        "print(\"The Score for Logistic Regression is: \" + str(acc_logreg))"
      ],
      "execution_count": 60,
      "outputs": [
        {
          "output_type": "stream",
          "text": [
            "The Score for Logistic Regression is: 0.8044692737430168\n"
          ],
          "name": "stdout"
        }
      ]
    },
    {
      "cell_type": "markdown",
      "metadata": {
        "id": "I8zvjKyTLNGM"
      },
      "source": [
        "**KNeighbors Model**"
      ]
    },
    {
      "cell_type": "code",
      "metadata": {
        "colab": {
          "base_uri": "https://localhost:8080/"
        },
        "id": "9WPbmAVKLOTF",
        "outputId": "2b31b016-ec1d-46e2-8ba8-74c841924452"
      },
      "source": [
        "knn_clf = KNeighborsClassifier()\n",
        "\n",
        "parameters_knn = {\"n_neighbors\": [3, 5, 10, 15], \"weights\": [\"uniform\", \"distance\"], \"algorithm\": [\"auto\", \"ball_tree\", \"kd_tree\"],\n",
        "                  \"leaf_size\": [20, 30, 50]}\n",
        "\n",
        "grid_knn = GridSearchCV(knn_clf, parameters_knn, scoring=make_scorer(accuracy_score))\n",
        "grid_knn.fit(X_training, y_training)\n",
        "\n",
        "knn_clf = grid_knn.best_estimator_\n",
        "\n",
        "knn_clf.fit(X_training, y_training)\n",
        "pred_knn = knn_clf.predict(X_valid)\n",
        "acc_knn = accuracy_score(y_valid, pred_knn)\n",
        "\n",
        "print(\"The Score for KNeighbors is: \" + str(acc_knn))"
      ],
      "execution_count": 61,
      "outputs": [
        {
          "output_type": "stream",
          "text": [
            "The Score for KNeighbors is: 0.7653631284916201\n"
          ],
          "name": "stdout"
        }
      ]
    },
    {
      "cell_type": "markdown",
      "metadata": {
        "id": "Y76raOg1LQoS"
      },
      "source": [
        "**GaussianNB Model**"
      ]
    },
    {
      "cell_type": "code",
      "metadata": {
        "colab": {
          "base_uri": "https://localhost:8080/"
        },
        "id": "PCbEmqppLRsz",
        "outputId": "f3a9acdf-d226-495d-d153-29b48e7941f8"
      },
      "source": [
        "gnb_clf = GaussianNB()\n",
        "\n",
        "parameters_gnb = {}\n",
        "\n",
        "grid_gnb = GridSearchCV(gnb_clf, parameters_gnb, scoring=make_scorer(accuracy_score))\n",
        "grid_gnb.fit(X_training, y_training)\n",
        "\n",
        "gnb_clf = grid_gnb.best_estimator_\n",
        "\n",
        "gnb_clf.fit(X_training, y_training)\n",
        "pred_gnb = gnb_clf.predict(X_valid)\n",
        "acc_gnb = accuracy_score(y_valid, pred_gnb)\n",
        "\n",
        "print(\"The Score for Gaussian NB is: \" + str(acc_gnb))"
      ],
      "execution_count": 62,
      "outputs": [
        {
          "output_type": "stream",
          "text": [
            "The Score for Gaussian NB is: 0.776536312849162\n"
          ],
          "name": "stdout"
        }
      ]
    },
    {
      "cell_type": "markdown",
      "metadata": {
        "id": "O-V9_siYLTrn"
      },
      "source": [
        "**DecisionTree Model**"
      ]
    },
    {
      "cell_type": "code",
      "metadata": {
        "colab": {
          "base_uri": "https://localhost:8080/"
        },
        "id": "nKBl1AzyLU1d",
        "outputId": "0e31ffa7-6867-401a-fe07-9ded6721652b"
      },
      "source": [
        "dt_clf = DecisionTreeClassifier()\n",
        "\n",
        "parameters_dt = {\"criterion\": [\"gini\", \"entropy\"], \"splitter\": [\"best\", \"random\"], \"max_features\": [\"auto\", \"sqrt\", \"log2\"]}\n",
        "\n",
        "grid_dt = GridSearchCV(dt_clf, parameters_dt, scoring=make_scorer(accuracy_score))\n",
        "grid_dt.fit(X_training, y_training)\n",
        "\n",
        "dt_clf = grid_dt.best_estimator_\n",
        "\n",
        "dt_clf.fit(X_training, y_training)\n",
        "pred_dt = dt_clf.predict(X_valid)\n",
        "acc_dt = accuracy_score(y_valid, pred_dt)\n",
        "\n",
        "print(\"The Score for Decision Tree is: \" + str(acc_dt))"
      ],
      "execution_count": 63,
      "outputs": [
        {
          "output_type": "stream",
          "text": [
            "The Score for Decision Tree is: 0.7597765363128491\n"
          ],
          "name": "stdout"
        }
      ]
    },
    {
      "cell_type": "markdown",
      "metadata": {
        "id": "qvhh9SSVLWxv"
      },
      "source": [
        "**XGBoost Model**"
      ]
    },
    {
      "cell_type": "code",
      "metadata": {
        "colab": {
          "base_uri": "https://localhost:8080/"
        },
        "id": "v0knII9SLYFB",
        "outputId": "c79ecc80-6f2b-4a7b-aaf5-2953c0b1f0b3"
      },
      "source": [
        "from xgboost import XGBClassifier\n",
        "\n",
        "xg_clf = XGBClassifier()\n",
        "\n",
        "parameters_xg = {\"objective\" : [\"reg:linear\"], \"n_estimators\" : [5, 10, 15, 20]}\n",
        "\n",
        "grid_xg = GridSearchCV(xg_clf, parameters_xg, scoring=make_scorer(accuracy_score))\n",
        "grid_xg.fit(X_training, y_training)\n",
        "\n",
        "xg_clf = grid_xg.best_estimator_\n",
        "\n",
        "xg_clf.fit(X_training, y_training)\n",
        "pred_xg = xg_clf.predict(X_valid)\n",
        "acc_xg = accuracy_score(y_valid, pred_xg)\n",
        "\n",
        "print(\"The Score for XGBoost is: \" + str(acc_xg))"
      ],
      "execution_count": 64,
      "outputs": [
        {
          "output_type": "stream",
          "text": [
            "[07:58:41] WARNING: /workspace/src/objective/regression_obj.cu:152: reg:linear is now deprecated in favor of reg:squarederror.\n",
            "[07:58:41] WARNING: /workspace/src/objective/regression_obj.cu:152: reg:linear is now deprecated in favor of reg:squarederror.\n",
            "[07:58:41] WARNING: /workspace/src/objective/regression_obj.cu:152: reg:linear is now deprecated in favor of reg:squarederror.\n",
            "[07:58:41] WARNING: /workspace/src/objective/regression_obj.cu:152: reg:linear is now deprecated in favor of reg:squarederror.\n",
            "[07:58:42] WARNING: /workspace/src/objective/regression_obj.cu:152: reg:linear is now deprecated in favor of reg:squarederror.\n",
            "[07:58:42] WARNING: /workspace/src/objective/regression_obj.cu:152: reg:linear is now deprecated in favor of reg:squarederror.\n",
            "[07:58:42] WARNING: /workspace/src/objective/regression_obj.cu:152: reg:linear is now deprecated in favor of reg:squarederror.\n",
            "[07:58:42] WARNING: /workspace/src/objective/regression_obj.cu:152: reg:linear is now deprecated in favor of reg:squarederror.\n",
            "[07:58:42] WARNING: /workspace/src/objective/regression_obj.cu:152: reg:linear is now deprecated in favor of reg:squarederror.\n",
            "[07:58:42] WARNING: /workspace/src/objective/regression_obj.cu:152: reg:linear is now deprecated in favor of reg:squarederror.\n",
            "[07:58:42] WARNING: /workspace/src/objective/regression_obj.cu:152: reg:linear is now deprecated in favor of reg:squarederror.\n",
            "[07:58:42] WARNING: /workspace/src/objective/regression_obj.cu:152: reg:linear is now deprecated in favor of reg:squarederror.\n",
            "[07:58:42] WARNING: /workspace/src/objective/regression_obj.cu:152: reg:linear is now deprecated in favor of reg:squarederror.\n",
            "[07:58:42] WARNING: /workspace/src/objective/regression_obj.cu:152: reg:linear is now deprecated in favor of reg:squarederror.\n",
            "[07:58:42] WARNING: /workspace/src/objective/regression_obj.cu:152: reg:linear is now deprecated in favor of reg:squarederror.\n",
            "[07:58:42] WARNING: /workspace/src/objective/regression_obj.cu:152: reg:linear is now deprecated in favor of reg:squarederror.\n",
            "[07:58:42] WARNING: /workspace/src/objective/regression_obj.cu:152: reg:linear is now deprecated in favor of reg:squarederror.\n",
            "[07:58:42] WARNING: /workspace/src/objective/regression_obj.cu:152: reg:linear is now deprecated in favor of reg:squarederror.\n",
            "[07:58:42] WARNING: /workspace/src/objective/regression_obj.cu:152: reg:linear is now deprecated in favor of reg:squarederror.\n",
            "[07:58:42] WARNING: /workspace/src/objective/regression_obj.cu:152: reg:linear is now deprecated in favor of reg:squarederror.\n",
            "[07:58:42] WARNING: /workspace/src/objective/regression_obj.cu:152: reg:linear is now deprecated in favor of reg:squarederror.\n",
            "[07:58:42] WARNING: /workspace/src/objective/regression_obj.cu:152: reg:linear is now deprecated in favor of reg:squarederror.\n",
            "The Score for XGBoost is: 0.8100558659217877\n"
          ],
          "name": "stdout"
        }
      ]
    },
    {
      "cell_type": "markdown",
      "metadata": {
        "id": "TUI4vvQ5LcZ5"
      },
      "source": [
        "# 8. Evaluating Model Performances\n",
        "After making so many models and predictions, we should evaluate and see which model performed the best and which model to use on our testing set."
      ]
    },
    {
      "cell_type": "code",
      "metadata": {
        "colab": {
          "base_uri": "https://localhost:8080/",
          "height": 295
        },
        "id": "zNGXDuZ-LiZq",
        "outputId": "0f8240e8-7f4b-4e5e-de2c-924049d5b4a0"
      },
      "source": [
        "model_performance = pd.DataFrame({\n",
        "    \"Model\": [\"SVC\", \"Linear SVC\", \"Random Forest\", \n",
        "              \"Logistic Regression\", \"K Nearest Neighbors\", \"Gaussian Naive Bayes\",  \n",
        "              \"Decision Tree\", \"XGBClassifier\"],\n",
        "    \"Accuracy\": [acc_svc, acc_linsvc, acc_rf, \n",
        "              acc_logreg, acc_knn, acc_gnb, acc_dt, acc_xg]\n",
        "})\n",
        "\n",
        "model_performance.sort_values(by=\"Accuracy\", ascending=False)"
      ],
      "execution_count": 65,
      "outputs": [
        {
          "output_type": "execute_result",
          "data": {
            "text/html": [
              "<div>\n",
              "<style scoped>\n",
              "    .dataframe tbody tr th:only-of-type {\n",
              "        vertical-align: middle;\n",
              "    }\n",
              "\n",
              "    .dataframe tbody tr th {\n",
              "        vertical-align: top;\n",
              "    }\n",
              "\n",
              "    .dataframe thead th {\n",
              "        text-align: right;\n",
              "    }\n",
              "</style>\n",
              "<table border=\"1\" class=\"dataframe\">\n",
              "  <thead>\n",
              "    <tr style=\"text-align: right;\">\n",
              "      <th></th>\n",
              "      <th>Model</th>\n",
              "      <th>Accuracy</th>\n",
              "    </tr>\n",
              "  </thead>\n",
              "  <tbody>\n",
              "    <tr>\n",
              "      <th>2</th>\n",
              "      <td>Random Forest</td>\n",
              "      <td>0.826816</td>\n",
              "    </tr>\n",
              "    <tr>\n",
              "      <th>0</th>\n",
              "      <td>SVC</td>\n",
              "      <td>0.821229</td>\n",
              "    </tr>\n",
              "    <tr>\n",
              "      <th>7</th>\n",
              "      <td>XGBClassifier</td>\n",
              "      <td>0.810056</td>\n",
              "    </tr>\n",
              "    <tr>\n",
              "      <th>3</th>\n",
              "      <td>Logistic Regression</td>\n",
              "      <td>0.804469</td>\n",
              "    </tr>\n",
              "    <tr>\n",
              "      <th>1</th>\n",
              "      <td>Linear SVC</td>\n",
              "      <td>0.793296</td>\n",
              "    </tr>\n",
              "    <tr>\n",
              "      <th>5</th>\n",
              "      <td>Gaussian Naive Bayes</td>\n",
              "      <td>0.776536</td>\n",
              "    </tr>\n",
              "    <tr>\n",
              "      <th>4</th>\n",
              "      <td>K Nearest Neighbors</td>\n",
              "      <td>0.765363</td>\n",
              "    </tr>\n",
              "    <tr>\n",
              "      <th>6</th>\n",
              "      <td>Decision Tree</td>\n",
              "      <td>0.759777</td>\n",
              "    </tr>\n",
              "  </tbody>\n",
              "</table>\n",
              "</div>"
            ],
            "text/plain": [
              "                  Model  Accuracy\n",
              "2         Random Forest  0.826816\n",
              "0                   SVC  0.821229\n",
              "7         XGBClassifier  0.810056\n",
              "3   Logistic Regression  0.804469\n",
              "1            Linear SVC  0.793296\n",
              "5  Gaussian Naive Bayes  0.776536\n",
              "4   K Nearest Neighbors  0.765363\n",
              "6         Decision Tree  0.759777"
            ]
          },
          "metadata": {
            "tags": []
          },
          "execution_count": 65
        }
      ]
    },
    {
      "cell_type": "markdown",
      "metadata": {
        "id": "b_jvgsYvLk9l"
      },
      "source": [
        "# 9. Submission\n",
        "Let's create a dataframe to submit to the competition with our predictions of our model."
      ]
    },
    {
      "cell_type": "code",
      "metadata": {
        "colab": {
          "base_uri": "https://localhost:8080/"
        },
        "id": "ocKaGJ1PLo2B",
        "outputId": "a1f7a5d5-0bdd-4970-9f6a-865254727701"
      },
      "source": [
        "svc_clf.fit(X_train, y_train)"
      ],
      "execution_count": 66,
      "outputs": [
        {
          "output_type": "stream",
          "text": [
            "[LibSVM]"
          ],
          "name": "stdout"
        },
        {
          "output_type": "execute_result",
          "data": {
            "text/plain": [
              "SVC(C=1.0, break_ties=False, cache_size=200, class_weight=None, coef0=0.0,\n",
              "    decision_function_shape='ovr', degree=3, gamma='scale', kernel='rbf',\n",
              "    max_iter=-1, probability=True, random_state=None, shrinking=True, tol=0.001,\n",
              "    verbose=True)"
            ]
          },
          "metadata": {
            "tags": []
          },
          "execution_count": 66
        }
      ]
    },
    {
      "cell_type": "code",
      "metadata": {
        "id": "h5pJakLWLqcR"
      },
      "source": [
        "submission_predictions = svc_clf.predict(X_test)"
      ],
      "execution_count": 67,
      "outputs": []
    },
    {
      "cell_type": "code",
      "metadata": {
        "colab": {
          "base_uri": "https://localhost:8080/"
        },
        "id": "Jf61-06jLr_H",
        "outputId": "f3aa2fd2-cee8-41a6-b876-f19ccdaea4b1"
      },
      "source": [
        "submission = pd.DataFrame({\n",
        "        \"PassengerId\": testing[\"PassengerId\"],\n",
        "        \"Survived\": submission_predictions\n",
        "    })\n",
        "\n",
        "submission.to_csv(\"titanic.csv\", index=False)\n",
        "print(submission.shape)"
      ],
      "execution_count": 68,
      "outputs": [
        {
          "output_type": "stream",
          "text": [
            "(418, 2)\n"
          ],
          "name": "stdout"
        }
      ]
    }
  ]
}